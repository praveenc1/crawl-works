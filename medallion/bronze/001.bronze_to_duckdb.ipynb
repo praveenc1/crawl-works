{
 "cells": [
  {
   "cell_type": "code",
   "execution_count": 1,
   "id": "eb570aca",
   "metadata": {},
   "outputs": [],
   "source": [
    "!python -m venv myenv\n"
   ]
  },
  {
   "cell_type": "code",
   "execution_count": null,
   "id": "b5fdc66b",
   "metadata": {},
   "outputs": [],
   "source": [
    "!pip install -r requirements.txt"
   ]
  },
  {
   "cell_type": "code",
   "execution_count": null,
   "id": "616c7d28",
   "metadata": {},
   "outputs": [],
   "source": [
    "!aws s3 ls commoncrawl/"
   ]
  },
  {
   "cell_type": "code",
   "execution_count": 1,
   "id": "f8120e85-4a6f-4292-9515-7a3123b09c9e",
   "metadata": {},
   "outputs": [],
   "source": [
    "import duckdb\n",
    "import pandas as pd"
   ]
  },
  {
   "cell_type": "code",
   "execution_count": null,
   "id": "d3d75db0-381a-46db-92c1-5c9047ee5c4d",
   "metadata": {},
   "outputs": [],
   "source": [
    "--!aws s3 cp s3://crawler-works/cc_index.duckdb ."
   ]
  },
  {
   "cell_type": "code",
   "execution_count": 2,
   "id": "e452b2f7",
   "metadata": {},
   "outputs": [],
   "source": [
    "DB_PREFIX = './data'\n",
    "DB_NAME_FULL= f'{DB_PREFIX}/cc_index.duckdb' #full\n",
    "DB_NAME_15_PCT = f'{DB_PREFIX}/cc_index_15pc_sample.duckdb' #15%\n",
    "DB_NAME_MICRO = f'{DB_PREFIX}/cc_index_p1pct_sample.duckdb' #0.1%\n",
    "DB_NAME_NANO = f'{DB_PREFIX}/cc_index_p1pct_sample.duckdb'\n",
    "\n",
    "DB_NAME = DB_NAME_NANO"
   ]
  },
  {
   "cell_type": "code",
   "execution_count": 3,
   "id": "c840d54e",
   "metadata": {},
   "outputs": [],
   "source": [
    "con = duckdb.connect(DB_NAME)\n",
    "con.install_extension(\"aws\")\n",
    "con.load_extension(\"aws\")\n",
    "\n",
    "con.install_extension(\"s3\")\n",
    "con.load_extension(\"s3\")\n",
    "\n",
    "con.install_extension(\"httpfs\")\n",
    "con.load_extension(\"httpfs\")"
   ]
  },
  {
   "cell_type": "code",
   "execution_count": 4,
   "id": "44afd8de",
   "metadata": {},
   "outputs": [
    {
     "data": {
      "text/plain": [
       "'https://data.commoncrawl.org/commoncrawl/cc-index/table/cc-main/warc/crawl=CC-MAIN-2024-42/subset=warc/*.parquet'"
      ]
     },
     "execution_count": 4,
     "metadata": {},
     "output_type": "execute_result"
    }
   ],
   "source": [
    "CRAWL_SET = \"CC-MAIN-2024-42\"\n",
    "CC_URL_S3_BASE=\"s3://\"\n",
    "CC_URL_HTTP_BASE=\"https://data.commoncrawl.org/\"\n",
    "CC_INDEX_URL = f\"{CC_URL_HTTP_BASE}commoncrawl/cc-index/table/cc-main/warc/crawl={CRAWL_SET}/subset=warc/*.parquet\"\n",
    "CC_INDEX_S3_URL = f\"{CC_URL_S3_BASE}commoncrawl/cc-index/table/cc-main/warc/crawl={CRAWL_SET}/subset=warc/*.parquet\"\n",
    "CC_INDEX_S3_BASE_URL = f\"{CC_URL_S3_BASE}commoncrawl/cc-index/table/cc-main/warc/crawl={CRAWL_SET}/subset=warc/\"\n",
    "CC_INDEX_URL"
   ]
  },
  {
   "cell_type": "code",
   "execution_count": 7,
   "id": "eebb2f60",
   "metadata": {},
   "outputs": [
    {
     "data": {
      "text/plain": [
       "'s3://commoncrawl/cc-index/table/cc-main/warc/crawl=CC-MAIN-2024-42/subset=warc/*.parquet'"
      ]
     },
     "execution_count": 7,
     "metadata": {},
     "output_type": "execute_result"
    }
   ],
   "source": [
    "CC_INDEX_S3_URL"
   ]
  },
  {
   "cell_type": "code",
   "execution_count": 8,
   "id": "6ab6bf0c",
   "metadata": {},
   "outputs": [
    {
     "name": "stdout",
     "output_type": "stream",
     "text": [
      "s3://commoncrawl/cc-index/table/cc-main/warc/crawl=CC-MAIN-2024-42/subset=warc/\n"
     ]
    }
   ],
   "source": [
    "print(f\"{CC_INDEX_S3_BASE_URL}\")"
   ]
  },
  {
   "cell_type": "code",
   "execution_count": 5,
   "id": "27cbef68",
   "metadata": {},
   "outputs": [
    {
     "data": {
      "text/plain": [
       "<duckdb.duckdb.DuckDBPyConnection at 0x1065557f0>"
      ]
     },
     "execution_count": 5,
     "metadata": {},
     "output_type": "execute_result"
    }
   ],
   "source": [
    "# Configure S3 settings for DuckDB\n",
    "con.execute(\"\"\"\n",
    "    CALL load_aws_credentials();\n",
    "\"\"\")"
   ]
  },
  {
   "cell_type": "code",
   "execution_count": 6,
   "id": "4af3f192",
   "metadata": {},
   "outputs": [
    {
     "data": {
      "text/plain": [
       "<duckdb.duckdb.DuckDBPyConnection at 0x1065557f0>"
      ]
     },
     "execution_count": 6,
     "metadata": {},
     "output_type": "execute_result"
    }
   ],
   "source": [
    "con.execute(\"\"\"\n",
    "  DROP SECRET IF EXISTS secret3;\n",
    "  CREATE SECRET secret3 (\n",
    "    TYPE S3,\n",
    "    PROVIDER CREDENTIAL_CHAIN,\n",
    "    CHAIN 'sso'\n",
    "  );\n",
    "            \"\"\")"
   ]
  },
  {
   "cell_type": "markdown",
   "id": "69b2cc2b-2a02-4f37-a5f4-1cb0db7afea6",
   "metadata": {},
   "source": [
    "--con.execute(f\"\"\"\n",
    "  CREATE TABLE IF NOT EXISTS t1 as \n",
    "  SELECT *\n",
    "    FROM read_parquet('{CC_INDEX_S3_URL}');\n",
    "  DESCRIBE t1;\n",
    "\"\"\").df()"
   ]
  },
  {
   "cell_type": "code",
   "execution_count": null,
   "id": "254e9e10-9bd0-46fe-a18f-992b9298004e",
   "metadata": {},
   "outputs": [],
   "source": [
    "!ls"
   ]
  },
  {
   "cell_type": "code",
   "execution_count": null,
   "id": "08f6125a-c170-4658-9003-bb0afe5491ee",
   "metadata": {},
   "outputs": [],
   "source": [
    "con.execute('select count(*) from t1').df()"
   ]
  },
  {
   "cell_type": "code",
   "execution_count": null,
   "id": "6efad12f-868f-4b0c-a580-53f0bd7655a4",
   "metadata": {},
   "outputs": [],
   "source": [
    "con.execute('describe t1').df()"
   ]
  },
  {
   "cell_type": "code",
   "execution_count": null,
   "id": "f07d9e74-7701-4539-95e5-d02d1051f563",
   "metadata": {},
   "outputs": [],
   "source": [
    "con.execute('select * from t1 limit 3').df().transpose() "
   ]
  },
  {
   "cell_type": "code",
   "execution_count": null,
   "id": "6e9aa394-f1d0-4bb6-a4ce-ebd6ebd886d8",
   "metadata": {},
   "outputs": [],
   "source": [
    "con.execute('select count(distinct  url_host_name) from t1').df()"
   ]
  },
  {
   "cell_type": "code",
   "execution_count": null,
   "id": "2a9e7960-285d-4124-bffe-00f10dffc612",
   "metadata": {},
   "outputs": [],
   "source": [
    "#pages per host\n",
    "con.execute('select count(*)/count(distinct url_host_name) from t1').df()"
   ]
  },
  {
   "cell_type": "code",
   "execution_count": null,
   "id": "868f2b13-bd79-49aa-b5cc-3402d910acb1",
   "metadata": {},
   "outputs": [],
   "source": [
    "con.execute('select count(distinct warc_filename) from t1').df()"
   ]
  },
  {
   "cell_type": "code",
   "execution_count": 7,
   "id": "fe78c281-66f3-400e-86cb-1b5f283b0485",
   "metadata": {},
   "outputs": [
    {
     "data": {
      "text/plain": [
       "<duckdb.duckdb.DuckDBPyConnection at 0x1065557f0>"
      ]
     },
     "execution_count": 7,
     "metadata": {},
     "output_type": "execute_result"
    }
   ],
   "source": [
    "p1pct_db_path = './data/cc_index_p1pct_sample.duckdb'\n",
    "p1pct_sample_fraction = \".1%\"\n",
    "con.execute(f\"ATTACH '{p1pct_db_path}' AS sample_db_p1pct\")"
   ]
  },
  {
   "cell_type": "code",
   "execution_count": 8,
   "id": "de282aef",
   "metadata": {},
   "outputs": [
    {
     "data": {
      "text/plain": [
       "<duckdb.duckdb.DuckDBPyConnection at 0x1065557f0>"
      ]
     },
     "execution_count": 8,
     "metadata": {},
     "output_type": "execute_result"
    }
   ],
   "source": [
    "nano_db_path = './data/cc_index_nano.duckdb'\n",
    "nano_sample_fraction = \".1%\"\n",
    "con.execute(f\"ATTACH '{nano_db_path}' AS sample_db_nano\")"
   ]
  },
  {
   "cell_type": "code",
   "execution_count": 10,
   "id": "153ae458",
   "metadata": {},
   "outputs": [
    {
     "ename": "CatalogException",
     "evalue": "Catalog Error: Table with name \"cc_index\" already exists!",
     "output_type": "error",
     "traceback": [
      "\u001b[0;31m---------------------------------------------------------------------------\u001b[0m",
      "\u001b[0;31mCatalogException\u001b[0m                          Traceback (most recent call last)",
      "Cell \u001b[0;32mIn[10], line 1\u001b[0m\n\u001b[0;32m----> 1\u001b[0m \u001b[43mcon\u001b[49m\u001b[38;5;241;43m.\u001b[39;49m\u001b[43mexecute\u001b[49m\u001b[43m(\u001b[49m\u001b[38;5;124;43mf\u001b[39;49m\u001b[38;5;124;43m\"\"\"\u001b[39;49m\n\u001b[1;32m      2\u001b[0m \u001b[38;5;124;43m    CREATE TABLE sample_db_nano.cc_index AS\u001b[39;49m\n\u001b[1;32m      3\u001b[0m \u001b[38;5;124;43m    SELECT * FROM sample_db_p1pct.cc_index_sample USING SAMPLE \u001b[39;49m\u001b[38;5;132;43;01m{\u001b[39;49;00m\u001b[43mnano_sample_fraction\u001b[49m\u001b[38;5;132;43;01m}\u001b[39;49;00m\u001b[38;5;124;43m;\u001b[39;49m\n\u001b[1;32m      4\u001b[0m \u001b[38;5;124;43m\"\"\"\u001b[39;49m\u001b[43m)\u001b[49m\n",
      "\u001b[0;31mCatalogException\u001b[0m: Catalog Error: Table with name \"cc_index\" already exists!"
     ]
    }
   ],
   "source": [
    "con.execute(f\"\"\"\n",
    "    CREATE TABLE sample_db_nano.cc_index AS\n",
    "    SELECT * FROM sample_db_p1pct.cc_index_sample USING SAMPLE {nano_sample_fraction};\n",
    "\"\"\")"
   ]
  },
  {
   "cell_type": "code",
   "execution_count": null,
   "id": "e4aae0fb",
   "metadata": {},
   "outputs": [],
   "source": [
    "con.execute(f\"\"\"\n",
    "    CREATE TABLE sample_db_p1pct.cc_index_sample AS\n",
    "    SELECT * FROM t1 USING SAMPLE {p1pct_sample_fraction};\n",
    "\"\"\")"
   ]
  },
  {
   "cell_type": "code",
   "execution_count": null,
   "id": "f954a784-f1b3-449e-85e4-e630c8611d8b",
   "metadata": {},
   "outputs": [],
   "source": [
    "!aws s3 cp cc_index_15pct_sample.duckdb s3://crawler-works/"
   ]
  },
  {
   "cell_type": "code",
   "execution_count": null,
   "id": "514238f4-af65-4fe9-9ee2-a59789aa8a09",
   "metadata": {},
   "outputs": [],
   "source": [
    "second_db_path = 'cc_index_15pct_sample.duckdb'\n",
    "con.execute(f\"ATTACH '{second_db_path}' AS sample_db\")"
   ]
  },
  {
   "cell_type": "code",
   "execution_count": 30,
   "id": "bc78c616",
   "metadata": {},
   "outputs": [],
   "source": [
    "sample_fraction = \"15%\"\n",
    "con.execute(f\"\"\"\n",
    "    CREATE TABLE sample_db.cc_index_sample AS\n",
    "    SELECT * FROM t1 USING SAMPLE {sample_fraction};\n",
    "\"\"\")"
   ]
  },
  {
   "cell_type": "code",
   "execution_count": null,
   "id": "6ed5be95-d212-4623-a96e-f38d9606a5f9",
   "metadata": {},
   "outputs": [],
   "source": [
    "con.execute(f\"\"\"\n",
    "    select count(*) from sample_db.cc_index_sample\n",
    "\"\"\").df()"
   ]
  },
  {
   "cell_type": "code",
   "execution_count": null,
   "id": "b1181647-28e0-4440-b830-a39488b9ac45",
   "metadata": {},
   "outputs": [],
   "source": [
    "con.execute(f\"\"\"\n",
    "    select count(*) from sample_db_p1pct.cc_index_sample\n",
    "\"\"\").df()"
   ]
  },
  {
   "cell_type": "code",
   "execution_count": null,
   "id": "f498ad67-0fc6-48cf-bbe4-9c6afdd5c0a2",
   "metadata": {},
   "outputs": [],
   "source": [
    "!aws s3 cp {p1pct_db_path} s3://crawler-works/"
   ]
  },
  {
   "cell_type": "code",
   "execution_count": null,
   "id": "d751a86f-172e-45b5-b628-7bdf4adc90b5",
   "metadata": {},
   "outputs": [],
   "source": []
  },
  {
   "cell_type": "markdown",
   "id": "8f07fc7f",
   "metadata": {},
   "source": [
    "# IGNORE EVERYTHING BELOW THIS LINE"
   ]
  },
  {
   "cell_type": "code",
   "execution_count": null,
   "id": "c1972d9f",
   "metadata": {},
   "outputs": [],
   "source": [
    "!duckdb -c \"\\\n",
    "  create table meta as SELECT * FROM '../cc/cdx-00000.jsonl'; \\\n",
    "  create view status_vw as Select status, count(status) as cnt from meta group by status order by cnt desc; \\\n",
    "  select * from meta; \\\n",
    "  select * from status_vw; \\\n",
    "\" {DB_FILE}"
   ]
  },
  {
   "cell_type": "code",
   "execution_count": null,
   "id": "defe24bb",
   "metadata": {},
   "outputs": [],
   "source": [
    "!duckdb -c \".databases\" {DB_FILE}\n",
    "#!duckdb -c \".open hello.db\""
   ]
  },
  {
   "cell_type": "code",
   "execution_count": null,
   "id": "24929561",
   "metadata": {},
   "outputs": [],
   "source": [
    "!duckdb -c \" \\\n",
    "create table metastats as select trim(status) as tstatus, count(trim(status)) as cstatus, round(count(*) * 100.0/sum(count(*)) over(), 2) as pct from meta group by tstatus order by cstatus desc; \\\n",
    "select * from metastats; \\\n",
    "\" {DB_FILE}"
   ]
  },
  {
   "cell_type": "code",
   "execution_count": null,
   "id": "34d83e1b",
   "metadata": {},
   "outputs": [],
   "source": [
    "!duckdb -c \" \\\n",
    "create table metastats_norobotstxt as select trim(status) as tstatus, count(trim(status)) as cstatus, round(count(*) * 100.0/sum(count(*)) over(), 2) as pct from meta where url not like '%robots.txt' group by tstatus order by cstatus desc; \\\n",
    "select * from metastats_norobotstxt; \\\n",
    "\" {DB_FILE}"
   ]
  },
  {
   "cell_type": "code",
   "execution_count": null,
   "id": "e70c6ed4",
   "metadata": {},
   "outputs": [],
   "source": [
    "#!duckdb -c \"drop table metastats\" {DB_FILE}"
   ]
  },
  {
   "cell_type": "code",
   "execution_count": null,
   "id": "bddf59c9",
   "metadata": {},
   "outputs": [],
   "source": [
    "first_line = \"\"\n",
    "with open(\"../cc/cdx-00000\", \"r\") as file:\n",
    "    first_line = file.readline()\n",
    "\n",
    "print(first_line)"
   ]
  },
  {
   "cell_type": "code",
   "execution_count": null,
   "id": "960647b1",
   "metadata": {},
   "outputs": [],
   "source": [
    "!echo \"{first_line}\" | cut -d' ' -f3- "
   ]
  },
  {
   "cell_type": "code",
   "execution_count": null,
   "id": "26a1482f",
   "metadata": {},
   "outputs": [],
   "source": [
    "import json\n",
    "s = '{\"url\": \"http://1.0.0.0/robots.txt\", \"mime\": \"text/html\", \"mime-detected\": \"text/html\", \"status\": \"403\", \"digest\": \"UNFBLUUDKY6EPX25BG4X7TI6J3IS2BBZ\", \"length\": \"2706\", \"offset\": \"890\", \"filename\": \"crawl-data/CC-MAIN-2024-42/segments/1727944253858.36/robotstxt/CC-MAIN-20241011230131-20241012020131-00456.warc.gz\"}'\n",
    "json.loads(s)"
   ]
  }
 ],
 "metadata": {
  "kernelspec": {
   "display_name": "Python 3 (ipykernel)",
   "language": "python",
   "name": "python3"
  },
  "language_info": {
   "codemirror_mode": {
    "name": "ipython",
    "version": 3
   },
   "file_extension": ".py",
   "mimetype": "text/x-python",
   "name": "python",
   "nbconvert_exporter": "python",
   "pygments_lexer": "ipython3",
   "version": "3.12.4"
  }
 },
 "nbformat": 4,
 "nbformat_minor": 5
}
