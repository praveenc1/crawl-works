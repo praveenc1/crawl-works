{
 "cells": [
  {
   "cell_type": "code",
   "execution_count": 55,
   "id": "fcaf1543",
   "metadata": {},
   "outputs": [
    {
     "name": "stderr",
     "output_type": "stream",
     "text": [
      "/opt/homebrew/Cellar/python@3.12/3.12.4/Frameworks/Python.framework/Versions/3.12/lib/python3.12/pty.py:95: RuntimeWarning: Using fork() can cause Polars to deadlock in the child process.\n",
      "In addition, using fork() with Python in general is a recipe for mysterious\n",
      "deadlocks and crashes.\n",
      "\n",
      "The most likely reason you are seeing this error is because you are using the\n",
      "multiprocessing module on Linux, which uses fork() by default. This will be\n",
      "fixed in Python 3.14. Until then, you want to use the \"spawn\" context instead.\n",
      "\n",
      "See https://docs.pola.rs/user-guide/misc/multiprocessing/ for details.\n",
      "\n",
      "If you really know what your doing, you can silence this warning with the warning module\n",
      "or by setting POLARS_ALLOW_FORKING_THREAD=1.\n",
      "\n",
      "  pid, fd = os.forkpty()\n"
     ]
    },
    {
     "name": "stdout",
     "output_type": "stream",
     "text": [
      "Requirement already satisfied: pandas in ./myenv/lib/python3.12/site-packages (2.2.3)\n",
      "Requirement already satisfied: polars in ./myenv/lib/python3.12/site-packages (1.16.0)\n",
      "Requirement already satisfied: numpy in ./myenv/lib/python3.12/site-packages (2.1.3)\n",
      "Collecting pyarrow\n",
      "  Downloading pyarrow-18.1.0-cp312-cp312-macosx_12_0_arm64.whl.metadata (3.3 kB)\n",
      "Requirement already satisfied: python-dateutil>=2.8.2 in ./myenv/lib/python3.12/site-packages (from pandas) (2.9.0.post0)\n",
      "Requirement already satisfied: pytz>=2020.1 in ./myenv/lib/python3.12/site-packages (from pandas) (2024.2)\n",
      "Requirement already satisfied: tzdata>=2022.7 in ./myenv/lib/python3.12/site-packages (from pandas) (2024.2)\n",
      "Requirement already satisfied: six>=1.5 in ./myenv/lib/python3.12/site-packages (from python-dateutil>=2.8.2->pandas) (1.16.0)\n",
      "Downloading pyarrow-18.1.0-cp312-cp312-macosx_12_0_arm64.whl (29.5 MB)\n",
      "\u001b[2K   \u001b[90m━━━━━━━━━━━━━━━━━━━━━━━━━━━━━━━━━━━━━━━━\u001b[0m \u001b[32m29.5/29.5 MB\u001b[0m \u001b[31m56.4 MB/s\u001b[0m eta \u001b[36m0:00:00\u001b[0ma \u001b[36m0:00:01\u001b[0m\n",
      "\u001b[?25hInstalling collected packages: pyarrow\n",
      "Successfully installed pyarrow-18.1.0\n",
      "\n",
      "\u001b[1m[\u001b[0m\u001b[34;49mnotice\u001b[0m\u001b[1;39;49m]\u001b[0m\u001b[39;49m A new release of pip is available: \u001b[0m\u001b[31;49m24.0\u001b[0m\u001b[39;49m -> \u001b[0m\u001b[32;49m24.3.1\u001b[0m\n",
      "\u001b[1m[\u001b[0m\u001b[34;49mnotice\u001b[0m\u001b[1;39;49m]\u001b[0m\u001b[39;49m To update, run: \u001b[0m\u001b[32;49mpip install --upgrade pip\u001b[0m\n"
     ]
    }
   ],
   "source": [
    "!pip install pandas polars numpy pyarrow"
   ]
  },
  {
   "cell_type": "code",
   "execution_count": 56,
   "id": "f8120e85-4a6f-4292-9515-7a3123b09c9e",
   "metadata": {},
   "outputs": [],
   "source": [
    "import duckdb\n",
    "import numpy\n",
    "import pandas as pd\n",
    "import polars\n",
    "import pyarrow"
   ]
  },
  {
   "cell_type": "code",
   "execution_count": 57,
   "id": "070a4002",
   "metadata": {},
   "outputs": [
    {
     "name": "stdout",
     "output_type": "stream",
     "text": [
      "┌───────┐\n",
      "│  42   │\n",
      "│ int32 │\n",
      "├───────┤\n",
      "│    42 │\n",
      "└───────┘\n",
      "\n"
     ]
    }
   ],
   "source": [
    "duckdb.sql(\"SELECT 42\").show()"
   ]
  },
  {
   "cell_type": "code",
   "execution_count": 58,
   "id": "8cd8f150",
   "metadata": {},
   "outputs": [
    {
     "data": {
      "text/plain": [
       "{'42': array([42], dtype=int32)}"
      ]
     },
     "execution_count": 58,
     "metadata": {},
     "output_type": "execute_result"
    }
   ],
   "source": [
    "duckdb.sql(\"SELECT 42\").fetchall()   # Python objects\n",
    "duckdb.sql(\"SELECT 42\").df()         # Pandas DataFrame\n",
    "duckdb.sql(\"SELECT 42\").pl()         # Polars DataFrame\n",
    "duckdb.sql(\"SELECT 42\").arrow()      # Arrow Table\n",
    "duckdb.sql(\"SELECT 42\").fetchnumpy() # NumPy Arrays"
   ]
  },
  {
   "cell_type": "code",
   "execution_count": 59,
   "id": "f5cf17bd",
   "metadata": {},
   "outputs": [
    {
     "data": {
      "text/plain": [
       "{'42': array([42], dtype=int32)}"
      ]
     },
     "execution_count": 59,
     "metadata": {},
     "output_type": "execute_result"
    }
   ],
   "source": [
    "duckdb.sql(\"SELECT 42\").fetchnumpy() # NumPy Arrays"
   ]
  },
  {
   "cell_type": "code",
   "execution_count": 60,
   "id": "c840d54e",
   "metadata": {},
   "outputs": [],
   "source": [
    "con = duckdb.connect()\n",
    "con.install_extension(\"s3\")\n",
    "con.load_extension(\"s3\")\n",
    "\n",
    "con.install_extension(\"httpfs\")\n",
    "con.load_extension(\"httpfs\")"
   ]
  },
  {
   "cell_type": "code",
   "execution_count": 61,
   "id": "44afd8de",
   "metadata": {},
   "outputs": [
    {
     "data": {
      "text/plain": [
       "'https://data.commoncrawl.org/commoncrawl/cc-index/table/cc-main/warc/crawl=CC-MAIN-2024-42/subset=warc/*.parquet'"
      ]
     },
     "execution_count": 61,
     "metadata": {},
     "output_type": "execute_result"
    }
   ],
   "source": [
    "CRAWL_SET = \"CC-MAIN-2024-42\"\n",
    "CC_URL_S3_BASE=\"s3://\"\n",
    "CC_URL_HTTP_BASE=\"https://data.commoncrawl.org/\"\n",
    "CC_INDEX_URL = f\"{CC_URL_HTTP_BASE}commoncrawl/cc-index/table/cc-main/warc/crawl={CRAWL_SET}/subset=warc/*.parquet\"\n",
    "CC_INDEX_S3_URL = f\"{CC_URL_S3_BASE}commoncrawl/cc-index/table/cc-main/warc/crawl={CRAWL_SET}/subset=warc/*.parquet\"\n",
    "CC_INDEX_URL"
   ]
  },
  {
   "cell_type": "code",
   "execution_count": 63,
   "id": "6ab6bf0c",
   "metadata": {},
   "outputs": [
    {
     "name": "stdout",
     "output_type": "stream",
     "text": [
      "s3://commoncrawl/cc-index/table/cc-main/warc/crawl=CC-MAIN-2024-42/subset=warc/*.parquet\n"
     ]
    }
   ],
   "source": [
    "print(f\"{CC_INDEX_S3_URL}\")"
   ]
  },
  {
   "cell_type": "code",
   "execution_count": 9,
   "id": "bc78c616",
   "metadata": {},
   "outputs": [],
   "source": [
    "#!cut -d' ' -f3- ../cc/cdx-00000 > ../cc/cdx-00000.jsonl "
   ]
  },
  {
   "cell_type": "code",
   "execution_count": 10,
   "id": "91f2b8e1",
   "metadata": {},
   "outputs": [],
   "source": [
    "!duckdb -c \"\""
   ]
  },
  {
   "cell_type": "code",
   "execution_count": 22,
   "id": "6acb9395",
   "metadata": {},
   "outputs": [],
   "source": [
    "DB_FILE = \"./cdx.duckdb\""
   ]
  },
  {
   "cell_type": "code",
   "execution_count": 23,
   "id": "c1972d9f",
   "metadata": {},
   "outputs": [
    {
     "name": "stdout",
     "output_type": "stream",
     "text": [
      "100% ▕████████████████████████████████████████████████████████████▏ \n",
      "┌──────────────────────┬────────────┬───┬───────────┬───────────┐\n",
      "│         url          │    mime    │ … │ languages │ truncated │\n",
      "│       varchar        │  varchar   │   │  varchar  │  varchar  │\n",
      "├──────────────────────┼────────────┼───┼───────────┼───────────┤\n",
      "│ http://1.0.0.0/rob…  │ text/html  │ … │           │           │\n",
      "│ http://1.0/robots.…  │ text/html  │ … │           │           │\n",
      "│ http://165.22.100.0/ │ text/html  │ … │           │           │\n",
      "│ http://165.22.100.…  │ text/html  │ … │           │           │\n",
      "│ http://47.75.105.0…  │ text/html  │ … │ zho       │           │\n",
      "│ http://47.75.105.0…  │ text/html  │ … │           │           │\n",
      "│ http://34.236.106.…  │ text/html  │ … │ eng       │           │\n",
      "│ http://34.236.106.…  │ text/html  │ … │           │           │\n",
      "│ http://139.59.109.…  │ text/html  │ … │ eng       │           │\n",
      "│ http://139.59.109.…  │ text/plain │ … │           │           │\n",
      "│ http://165.22.114.0/ │ text/html  │ … │           │           │\n",
      "│ http://165.22.114.0/ │ text/html  │ … │           │           │\n",
      "│ http://165.22.114.…  │ text/html  │ … │           │           │\n",
      "│ http://165.22.114.…  │ text/html  │ … │           │           │\n",
      "│ http://128.199.115…  │ text/html  │ … │           │           │\n",
      "│ https://157.245.11…  │ text/html  │ … │ por,eng   │           │\n",
      "│ https://157.245.11…  │ text/plain │ … │           │           │\n",
      "│ http://3.22.125.0/…  │ text/html  │ … │ eng       │           │\n",
      "│ http://3.22.125.0/…  │ text/html  │ … │ eng       │           │\n",
      "│ http://3.22.125.0/…  │ text/html  │ … │ eng       │           │\n",
      "│          ·           │     ·      │ · │  ·        │     ·     │\n",
      "│          ·           │     ·      │ · │  ·        │     ·     │\n",
      "│          ·           │     ·      │ · │  ·        │     ·     │\n",
      "│ https://bionic-db.…  │ text/html  │ … │           │           │\n",
      "│ https://bionic-db.…  │ text/html  │ … │           │           │\n",
      "│ https://bionic-db.…  │ text/html  │ … │           │           │\n",
      "│ https://bionic-db.…  │ text/html  │ … │           │           │\n",
      "│ https://bionic-db.…  │ text/html  │ … │           │           │\n",
      "│ https://bionic-db.…  │ text/html  │ … │           │           │\n",
      "│ https://bionic-db.…  │ text/html  │ … │           │           │\n",
      "│ https://bionic-db.…  │ text/html  │ … │           │           │\n",
      "│ https://bionic-db.…  │ text/html  │ … │           │           │\n",
      "│ https://bionic-db.…  │ text/html  │ … │           │           │\n",
      "│ https://bionic-db.…  │ text/html  │ … │           │           │\n",
      "│ https://bionic-db.…  │ text/html  │ … │           │           │\n",
      "│ https://bionic-db.…  │ text/html  │ … │           │           │\n",
      "│ https://bionic-db.…  │ text/html  │ … │           │           │\n",
      "│ https://bionic-db.…  │ text/html  │ … │           │           │\n",
      "│ https://bionic-db.…  │ text/html  │ … │           │           │\n",
      "│ https://bionic-db.…  │ text/html  │ … │           │           │\n",
      "│ https://bionic-db.…  │ text/html  │ … │           │           │\n",
      "│ https://bionic-db.…  │ text/html  │ … │           │           │\n",
      "│ https://bionic-db.…  │ text/html  │ … │           │           │\n",
      "├──────────────────────┴────────────┴───┴───────────┴───────────┤\n",
      "│ 10649910 rows (40 shown)                 12 columns (4 shown) │\n",
      "└───────────────────────────────────────────────────────────────┘\n",
      "┌─────────┬─────────┐\n",
      "│ status  │   cnt   │\n",
      "│ varchar │  int64  │\n",
      "├─────────┼─────────┤\n",
      "│ 200     │ 9104480 │\n",
      "│ 301     │  514285 │\n",
      "│ 404     │  489284 │\n",
      "│ 302     │  311106 │\n",
      "│ 304     │   52519 │\n",
      "│ 308     │   49289 │\n",
      "│ 307     │   42106 │\n",
      "│ 500     │   16486 │\n",
      "│ 403     │   13914 │\n",
      "│ 303     │   13372 │\n",
      "│ 410     │    9494 │\n",
      "│ 406     │    6755 │\n",
      "│ 401     │    5352 │\n",
      "│ 503     │    4687 │\n",
      "│ 502     │    3066 │\n",
      "│ 429     │    2508 │\n",
      "│ 522     │    2329 │\n",
      "│ 400     │    2190 │\n",
      "│ 520     │    2037 │\n",
      "│ 402     │     880 │\n",
      "│  ·      │       · │\n",
      "│  ·      │       · │\n",
      "│  ·      │       · │\n",
      "│ 499     │      10 │\n",
      "│ 415     │       9 │\n",
      "│ 533     │       9 │\n",
      "│ 444     │       7 │\n",
      "│ 206     │       7 │\n",
      "│ 507     │       3 │\n",
      "│ 443     │       2 │\n",
      "│ 420     │       2 │\n",
      "│ 442     │       2 │\n",
      "│ 599     │       2 │\n",
      "│ 220     │       2 │\n",
      "│ 482     │       2 │\n",
      "│ 512     │       2 │\n",
      "│ 583     │       1 │\n",
      "│ 551     │       1 │\n",
      "│ 603     │       1 │\n",
      "│ 506     │       1 │\n",
      "│ 700     │       1 │\n",
      "│ 542     │       1 │\n",
      "│ 417     │       1 │\n",
      "├─────────┴─────────┤\n",
      "│      66 rows      │\n",
      "│    (40 shown)     │\n",
      "└───────────────────┘\n"
     ]
    }
   ],
   "source": [
    "!duckdb -c \"\\\n",
    "  create table meta as SELECT * FROM '../cc/cdx-00000.jsonl'; \\\n",
    "  create view status_vw as Select status, count(status) as cnt from meta group by status order by cnt desc; \\\n",
    "  select * from meta; \\\n",
    "  select * from status_vw; \\\n",
    "\" {DB_FILE}"
   ]
  },
  {
   "cell_type": "code",
   "execution_count": 26,
   "id": "defe24bb",
   "metadata": {},
   "outputs": [
    {
     "name": "stdout",
     "output_type": "stream",
     "text": [
      "cdx: ./cdx.duckdb\n"
     ]
    }
   ],
   "source": [
    "!duckdb -c \".databases\" {DB_FILE}\n",
    "#!duckdb -c \".open hello.db\""
   ]
  },
  {
   "cell_type": "code",
   "execution_count": 43,
   "id": "24929561",
   "metadata": {},
   "outputs": [
    {
     "name": "stdout",
     "output_type": "stream",
     "text": [
      "┌─────────┬─────────┬────────┐\n",
      "│ tstatus │ cstatus │  pct   │\n",
      "│ varchar │  int64  │ double │\n",
      "├─────────┼─────────┼────────┤\n",
      "│ 200     │ 9104480 │  85.49 │\n",
      "│ 301     │  514285 │   4.83 │\n",
      "│ 404     │  489284 │   4.59 │\n",
      "│ 302     │  311106 │   2.92 │\n",
      "│ 304     │   52519 │   0.49 │\n",
      "│ 308     │   49289 │   0.46 │\n",
      "│ 307     │   42106 │    0.4 │\n",
      "│ 500     │   16486 │   0.15 │\n",
      "│ 403     │   13914 │   0.13 │\n",
      "│ 303     │   13372 │   0.13 │\n",
      "│ 410     │    9494 │   0.09 │\n",
      "│ 406     │    6755 │   0.06 │\n",
      "│ 401     │    5352 │   0.05 │\n",
      "│ 503     │    4687 │   0.04 │\n",
      "│ 502     │    3066 │   0.03 │\n",
      "│ 429     │    2508 │   0.02 │\n",
      "│ 522     │    2329 │   0.02 │\n",
      "│ 400     │    2190 │   0.02 │\n",
      "│ 520     │    2037 │   0.02 │\n",
      "│ 402     │     880 │   0.01 │\n",
      "│  ·      │       · │     ·  │\n",
      "│  ·      │       · │     ·  │\n",
      "│  ·      │       · │     ·  │\n",
      "│ 499     │      10 │    0.0 │\n",
      "│ 533     │       9 │    0.0 │\n",
      "│ 415     │       9 │    0.0 │\n",
      "│ 206     │       7 │    0.0 │\n",
      "│ 444     │       7 │    0.0 │\n",
      "│ 507     │       3 │    0.0 │\n",
      "│ 599     │       2 │    0.0 │\n",
      "│ 442     │       2 │    0.0 │\n",
      "│ 420     │       2 │    0.0 │\n",
      "│ 443     │       2 │    0.0 │\n",
      "│ 482     │       2 │    0.0 │\n",
      "│ 512     │       2 │    0.0 │\n",
      "│ 220     │       2 │    0.0 │\n",
      "│ 551     │       1 │    0.0 │\n",
      "│ 603     │       1 │    0.0 │\n",
      "│ 506     │       1 │    0.0 │\n",
      "│ 583     │       1 │    0.0 │\n",
      "│ 700     │       1 │    0.0 │\n",
      "│ 542     │       1 │    0.0 │\n",
      "│ 417     │       1 │    0.0 │\n",
      "├─────────┴─────────┴────────┤\n",
      "│     66 rows (40 shown)     │\n",
      "└────────────────────────────┘\n"
     ]
    }
   ],
   "source": [
    "!duckdb -c \" \\\n",
    "create table metastats as select trim(status) as tstatus, count(trim(status)) as cstatus, round(count(*) * 100.0/sum(count(*)) over(), 2) as pct from meta group by tstatus order by cstatus desc; \\\n",
    "select * from metastats; \\\n",
    "\" {DB_FILE}"
   ]
  },
  {
   "cell_type": "code",
   "execution_count": 67,
   "id": "34d83e1b",
   "metadata": {},
   "outputs": [
    {
     "name": "stdout",
     "output_type": "stream",
     "text": [
      "┌─────────┬─────────┬────────┐\n",
      "│ tstatus │ cstatus │  pct   │\n",
      "│ varchar │  int64  │ double │\n",
      "├─────────┼─────────┼────────┤\n",
      "│ 200     │ 8906463 │  86.65 │\n",
      "│ 301     │  478984 │   4.66 │\n",
      "│ 404     │  388104 │   3.78 │\n",
      "│ 302     │  299691 │   2.92 │\n",
      "│ 304     │   52516 │   0.51 │\n",
      "│ 308     │   46008 │   0.45 │\n",
      "│ 307     │   39977 │   0.39 │\n",
      "│ 500     │   13362 │   0.13 │\n",
      "│ 303     │   11806 │   0.11 │\n",
      "│ 403     │    9748 │   0.09 │\n",
      "│ 410     │    9132 │   0.09 │\n",
      "│ 401     │    5012 │   0.05 │\n",
      "│ 406     │    4599 │   0.04 │\n",
      "│ 503     │    3216 │   0.03 │\n",
      "│ 502     │    2224 │   0.02 │\n",
      "│ 400     │    1788 │   0.02 │\n",
      "│ 520     │    1670 │   0.02 │\n",
      "│ 429     │     857 │   0.01 │\n",
      "│ 402     │     802 │   0.01 │\n",
      "│ 522     │     702 │   0.01 │\n",
      "│  ·      │       · │     ·  │\n",
      "│  ·      │       · │     ·  │\n",
      "│  ·      │       · │     ·  │\n",
      "│ 422     │      21 │    0.0 │\n",
      "│ 421     │      20 │    0.0 │\n",
      "│ 412     │      17 │    0.0 │\n",
      "│ 418     │      16 │    0.0 │\n",
      "│ 416     │      15 │    0.0 │\n",
      "│ 501     │      11 │    0.0 │\n",
      "│ 415     │       8 │    0.0 │\n",
      "│ 206     │       7 │    0.0 │\n",
      "│ 101     │       6 │    0.0 │\n",
      "│ 499     │       5 │    0.0 │\n",
      "│ 509     │       3 │    0.0 │\n",
      "│ 530     │       3 │    0.0 │\n",
      "│ 507     │       3 │    0.0 │\n",
      "│ 444     │       3 │    0.0 │\n",
      "│ 420     │       2 │    0.0 │\n",
      "│ 443     │       2 │    0.0 │\n",
      "│ 599     │       1 │    0.0 │\n",
      "│ 442     │       1 │    0.0 │\n",
      "│ 666     │       1 │    0.0 │\n",
      "│ 482     │       1 │    0.0 │\n",
      "├─────────┴─────────┴────────┤\n",
      "│     54 rows (40 shown)     │\n",
      "└────────────────────────────┘\n"
     ]
    }
   ],
   "source": [
    "!duckdb -c \" \\\n",
    "create table metastats_norobotstxt as select trim(status) as tstatus, count(trim(status)) as cstatus, round(count(*) * 100.0/sum(count(*)) over(), 2) as pct from meta where url not like '%robots.txt' group by tstatus order by cstatus desc; \\\n",
    "select * from metastats_norobotstxt; \\\n",
    "\" {DB_FILE}"
   ]
  },
  {
   "cell_type": "code",
   "execution_count": null,
   "id": "e70c6ed4",
   "metadata": {},
   "outputs": [],
   "source": [
    "#!duckdb -c \"drop table metastats\" {DB_FILE}"
   ]
  },
  {
   "cell_type": "code",
   "execution_count": 22,
   "id": "bddf59c9",
   "metadata": {},
   "outputs": [
    {
     "name": "stdout",
     "output_type": "stream",
     "text": [
      "0,0,0,1)/robots.txt 20241012004456 {\"url\": \"http://1.0.0.0/robots.txt\", \"mime\": \"text/html\", \"mime-detected\": \"text/html\", \"status\": \"403\", \"digest\": \"UNFBLUUDKY6EPX25BG4X7TI6J3IS2BBZ\", \"length\": \"2706\", \"offset\": \"890\", \"filename\": \"crawl-data/CC-MAIN-2024-42/segments/1727944253858.36/robotstxt/CC-MAIN-20241011230131-20241012020131-00456.warc.gz\"}\n",
      "\n"
     ]
    }
   ],
   "source": [
    "first_line = \"\"\n",
    "with open(\"../cc/cdx-00000\", \"r\") as file:\n",
    "    first_line = file.readline()\n",
    "\n",
    "print(first_line)"
   ]
  },
  {
   "cell_type": "code",
   "execution_count": 63,
   "id": "960647b1",
   "metadata": {},
   "outputs": [
    {
     "name": "stdout",
     "output_type": "stream",
     "text": [
      "{url: http://1.0.0.0/robots.txt, mime: text/html, mime-detected: text/html, status: 403, digest: UNFBLUUDKY6EPX25BG4X7TI6J3IS2BBZ, length: 2706, offset: 890, filename: crawl-data/CC-MAIN-2024-42/segments/1727944253858.36/robotstxt/CC-MAIN-20241011230131-20241012020131-00456.warc.gz}\n",
      "\n"
     ]
    }
   ],
   "source": [
    "!echo \"{first_line}\" | cut -d' ' -f3- "
   ]
  },
  {
   "cell_type": "code",
   "execution_count": 61,
   "id": "26a1482f",
   "metadata": {},
   "outputs": [
    {
     "data": {
      "text/plain": [
       "{'url': 'http://1.0.0.0/robots.txt',\n",
       " 'mime': 'text/html',\n",
       " 'mime-detected': 'text/html',\n",
       " 'status': '403',\n",
       " 'digest': 'UNFBLUUDKY6EPX25BG4X7TI6J3IS2BBZ',\n",
       " 'length': '2706',\n",
       " 'offset': '890',\n",
       " 'filename': 'crawl-data/CC-MAIN-2024-42/segments/1727944253858.36/robotstxt/CC-MAIN-20241011230131-20241012020131-00456.warc.gz'}"
      ]
     },
     "execution_count": 61,
     "metadata": {},
     "output_type": "execute_result"
    }
   ],
   "source": [
    "import json\n",
    "s = '{\"url\": \"http://1.0.0.0/robots.txt\", \"mime\": \"text/html\", \"mime-detected\": \"text/html\", \"status\": \"403\", \"digest\": \"UNFBLUUDKY6EPX25BG4X7TI6J3IS2BBZ\", \"length\": \"2706\", \"offset\": \"890\", \"filename\": \"crawl-data/CC-MAIN-2024-42/segments/1727944253858.36/robotstxt/CC-MAIN-20241011230131-20241012020131-00456.warc.gz\"}'\n",
    "json.loads(s)"
   ]
  },
  {
   "cell_type": "code",
   "execution_count": 45,
   "id": "175fd925",
   "metadata": {},
   "outputs": [
    {
     "ename": "HTTPException",
     "evalue": "HTTP Error: Unable to connect to URL \"https://data.commoncrawl.org/commoncrawl/cc-index/table/cc-main/warc/crawl=CC-MAIN-2024-42/subset=warc/*.parquet\": 404 (Not Found)",
     "output_type": "error",
     "traceback": [
      "\u001b[0;31m---------------------------------------------------------------------------\u001b[0m",
      "\u001b[0;31mHTTPException\u001b[0m                             Traceback (most recent call last)",
      "Cell \u001b[0;32mIn[45], line 1\u001b[0m\n\u001b[0;32m----> 1\u001b[0m \u001b[43mcon\u001b[49m\u001b[38;5;241;43m.\u001b[39;49m\u001b[43msql\u001b[49m\u001b[43m(\u001b[49m\u001b[38;5;124;43mf\u001b[39;49m\u001b[38;5;124;43m\"\u001b[39;49m\u001b[38;5;124;43mselect * from read_parquet(\u001b[39;49m\u001b[38;5;124;43m'\u001b[39;49m\u001b[38;5;132;43;01m{\u001b[39;49;00m\u001b[43mCC_INDEX_URL\u001b[49m\u001b[38;5;132;43;01m}\u001b[39;49;00m\u001b[38;5;124;43m'\u001b[39;49m\u001b[38;5;124;43m)\u001b[39;49m\u001b[38;5;124;43m\"\u001b[39;49m\u001b[43m)\u001b[49m\n",
      "\u001b[0;31mHTTPException\u001b[0m: HTTP Error: Unable to connect to URL \"https://data.commoncrawl.org/commoncrawl/cc-index/table/cc-main/warc/crawl=CC-MAIN-2024-42/subset=warc/*.parquet\": 404 (Not Found)"
     ]
    }
   ],
   "source": [
    "con.sql(f\"select * from read_parquet('{CC_INDEX_URL}')\")"
   ]
  },
  {
   "cell_type": "code",
   "execution_count": null,
   "id": "266dd15e",
   "metadata": {},
   "outputs": [],
   "source": [
    "duckdb.read_parquet(CC_INDEX_URL)"
   ]
  },
  {
   "cell_type": "code",
   "execution_count": 64,
   "id": "146b8337",
   "metadata": {},
   "outputs": [
    {
     "name": "stdout",
     "output_type": "stream",
     "text": [
      "CREATE TABLE meta(url VARCHAR, mime VARCHAR, \"mime-detected\" VARCHAR, status VARCHAR, digest VARCHAR, length VARCHAR, \"offset\" VARCHAR, filename VARCHAR, redirect VARCHAR, charset VARCHAR, languages VARCHAR, truncated VARCHAR);\n",
      "CREATE TABLE metastats(tstatus VARCHAR, cstatus BIGINT, pct DOUBLE);\n",
      "CREATE VIEW status_vw AS SELECT status, count(status) AS cnt FROM meta GROUP BY status ORDER BY cnt DESC;\n"
     ]
    }
   ],
   "source": [
    "!duckdb -c \".schema\" {DB_FILE}"
   ]
  },
  {
   "cell_type": "code",
   "execution_count": 66,
   "id": "ed89c388",
   "metadata": {},
   "outputs": [
    {
     "name": "stdout",
     "output_type": "stream",
     "text": [
      "┌──────────────────────┬───────────┬───────────────┬───┬───────────┬───────────┐\n",
      "│         url          │   mime    │ mime-detected │ … │ languages │ truncated │\n",
      "│       varchar        │  varchar  │    varchar    │   │  varchar  │  varchar  │\n",
      "├──────────────────────┼───────────┼───────────────┼───┼───────────┼───────────┤\n",
      "│ http://1.0.0.0/rob…  │ text/html │ text/html     │ … │           │           │\n",
      "│ http://1.0/robots.…  │ text/html │ text/html     │ … │           │           │\n",
      "│ http://165.22.100.…  │ text/html │ text/html     │ … │           │           │\n",
      "├──────────────────────┴───────────┴───────────────┴───┴───────────┴───────────┤\n",
      "│ 3 rows                                                  12 columns (5 shown) │\n",
      "└──────────────────────────────────────────────────────────────────────────────┘\n"
     ]
    }
   ],
   "source": [
    "!duckdb -c \"select * from meta where url like '%robots.txt' limit 3\" {DB_FILE}"
   ]
  },
  {
   "cell_type": "code",
   "execution_count": 69,
   "id": "b6ee5930",
   "metadata": {},
   "outputs": [
    {
     "name": "stdout",
     "output_type": "stream",
     "text": [
      "{\"url\": \"http://1.0.0.0/robots.txt\", \"mime\": \"text/html\", \"mime-detected\": \"text/html\", \"status\": \"403\", \"digest\": \"UNFBLUUDKY6EPX25BG4X7TI6J3IS2BBZ\", \"length\": \"2706\", \"offset\": \"890\", \"filename\": \"crawl-data/CC-MAIN-2024-42/segments/1727944253858.36/robotstxt/CC-MAIN-20241011230131-20241012020131-00456.warc.gz\"}\n",
      "{\"url\": \"http://1.0/robots.txt\", \"mime\": \"text/html\", \"mime-detected\": \"text/html\", \"status\": \"403\", \"digest\": \"GU4Y6L3AUIXVNMMNTWLI7DEQOYT6QOTG\", \"length\": \"2703\", \"offset\": \"2506\", \"filename\": \"crawl-data/CC-MAIN-2024-42/segments/1727944253306.52/robotstxt/CC-MAIN-20241004103433-20241004133433-00732.warc.gz\"}\n",
      "{\"url\": \"http://165.22.100.0/\", \"mime\": \"text/html\", \"mime-detected\": \"text/html\", \"status\": \"301\", \"digest\": \"DCNYNIFG5SBRCVS5PCUY4YY2UM2WAQ4R\", \"length\": \"690\", \"offset\": \"12101\", \"filename\": \"crawl-data/CC-MAIN-2024-42/segments/1727944253371.47/crawldiagnostics/CC-MAIN-20241005143707-20241005173707-00443.warc.gz\", \"redirect\": \"https://157.245.55.71/\"}\n",
      "{\"url\": \"http://165.22.100.0/robots.txt\", \"mime\": \"text/html\", \"mime-detected\": \"text/html\", \"status\": \"301\", \"digest\": \"LYEE2BXON4MCQCP5FDVDNILOWBKCZZ6G\", \"length\": \"701\", \"offset\": \"1897\", \"filename\": \"crawl-data/CC-MAIN-2024-42/segments/1727944253371.47/robotstxt/CC-MAIN-20241005143707-20241005173707-00410.warc.gz\", \"redirect\": \"https://157.245.55.71/robots.txt\"}\n",
      "{\"url\": \"http://47.75.105.0:8080/\", \"mime\": \"text/html\", \"mime-detected\": \"application/xhtml+xml\", \"status\": \"200\", \"digest\": \"ZSWS2NF6MUCWNFIXEEZSTP55L4WUVZ5L\", \"length\": \"1411\", \"offset\": \"424211\", \"filename\": \"crawl-data/CC-MAIN-2024-42/segments/1727944255355.53/warc/CC-MAIN-20241014005649-20241014035649-00707.warc.gz\", \"charset\": \"UTF-8\", \"languages\": \"zho\"}\n",
      "{\"url\": \"http://47.75.105.0:8080/robots.txt\", \"mime\": \"text/html\", \"mime-detected\": \"text/html\", \"status\": \"404\", \"digest\": \"WUDZXGOI5DK5B46SGI2FZ6RQ4LVGUNZQ\", \"length\": \"598\", \"offset\": \"5905\", \"filename\": \"crawl-data/CC-MAIN-2024-42/segments/1727944255355.53/robotstxt/CC-MAIN-20241014005649-20241014035649-00486.warc.gz\"}\n",
      "{\"url\": \"http://34.236.106.0/hispanic-heritage/\", \"mime\": \"text/html\", \"mime-detected\": \"text/html\", \"status\": \"200\", \"digest\": \"DLONYHGAQOTTEIIQZERXDDEMS7HVIJ3U\", \"length\": \"7149\", \"offset\": \"369008\", \"filename\": \"crawl-data/CC-MAIN-2024-42/segments/1727944253567.15/warc/CC-MAIN-20241009023409-20241009053409-00039.warc.gz\", \"charset\": \"UTF-8\", \"languages\": \"eng\"}\n",
      "{\"url\": \"http://34.236.106.0/robots.txt\", \"mime\": \"text/html\", \"mime-detected\": \"text/html\", \"status\": \"302\", \"digest\": \"3I42H3S6NNFQ2MSVX7XZKYAYSCX5QBYJ\", \"length\": \"547\", \"offset\": \"894\", \"filename\": \"crawl-data/CC-MAIN-2024-42/segments/1727944253567.15/robotstxt/CC-MAIN-20241009023409-20241009053409-00022.warc.gz\", \"redirect\": \"/404/\"}\n",
      "{\"url\": \"http://139.59.109.0:8083/\", \"mime\": \"text/html\", \"mime-detected\": \"text/html\", \"status\": \"200\", \"digest\": \"4WC5ZMVSIPVJFYKN3M725TU6G2FARAWE\", \"length\": \"2474\", \"offset\": \"325468\", \"filename\": \"crawl-data/CC-MAIN-2024-42/segments/1727944253349.14/warc/CC-MAIN-20241005082310-20241005112310-00424.warc.gz\", \"charset\": \"UTF-8\", \"languages\": \"eng\"}\n",
      "{\"url\": \"http://139.59.109.0:8083/robots.txt\", \"mime\": \"text/plain\", \"mime-detected\": \"text/x-robots\", \"status\": \"200\", \"digest\": \"YR6M6GSJYJGMLBBEGCVHLRZO6SISSJAS\", \"length\": \"613\", \"offset\": \"900\", \"filename\": \"crawl-data/CC-MAIN-2024-42/segments/1727944253349.14/robotstxt/CC-MAIN-20241005082310-20241005112310-00867.warc.gz\"}\n"
     ]
    }
   ],
   "source": [
    "!head -n 10 '../cc/cdx-00000.jsonl'"
   ]
  },
  {
   "cell_type": "code",
   "execution_count": 76,
   "id": "8cbef795",
   "metadata": {},
   "outputs": [],
   "source": [
    "import gzip"
   ]
  },
  {
   "cell_type": "code",
   "execution_count": 82,
   "id": "c41ada86",
   "metadata": {},
   "outputs": [
    {
     "name": "stdout",
     "output_type": "stream",
     "text": [
      "WARC/1.0\n",
      "WARC-Type: warcinfo\n",
      "WARC-Date: 2024-10-14T00:56:49Z\n",
      "WARC-Record-ID: <urn:uuid:2d4f52d6-aad5-42da-9be0-8f621c9ae90b>\n",
      "Content-Length: 490\n",
      "Content-Type: application/warc-fields\n",
      "WARC-Filename: CC-MAIN-20241014005649-20241014035649-00707.warc.gz\n",
      "\n",
      "isPartOf: CC-MAIN-2024-42\n",
      "publisher: Common Crawl\n",
      "description: Wide crawl of the web for October 2024\n",
      "operator: Common Crawl Admin (info@commoncrawl.org)\n",
      "hostname: ip-10-67-67-116\n",
      "software: Apache Nutch 1.20 (modified, https://github.com/commoncrawl/nutch/)\n",
      "robots: checked via crawler-commons 1.5-SNAPSHOT (https://github.com/crawler-commons/crawler-commons)\n",
      "format: WARC File Format 1.1\n",
      "conformsTo: https://iipc.github.io/warc-specifications/specifications/warc-format/warc-1.1/\n",
      "\n",
      "\n",
      "WARC/1.0\n",
      "WARC-Type: request\n",
      "WARC-Date: 2024-10-14T01:37:39Z\n",
      "WARC-Record-ID: <urn:uuid:ad52513e-a3ea-40af-9c1d-c30865ba976e>\n",
      "Content-Length: 269\n",
      "Content-Type: application/http; msgtype=request\n",
      "WARC-Warcinfo-ID: <urn:uuid:2d4f52d6-aad5-42da-9be0-8f621c9ae90b>\n",
      "WARC-IP-Address: 107.163.242.176\n",
      "WARC-Target-URI: http://0.angelautotires.net/virtual-tour/\n",
      "WARC-Protocol: http/1.1\n",
      "\n",
      "GET /virtual-tour/ HTTP/1.1\n",
      "User-Agent: CCBot/2.0 (https://commoncrawl.org/faq/)\n",
      "Accept: text/html,application/xhtml+xml,application/xml;q=0.9,*/*;q=0.8\n",
      "Accept-Language: en-US,en;q=0.5\n",
      "Accept-Encoding: br,gzip\n",
      "Host: 0.angelautotires.net\n",
      "Connection: Keep-Alive\n",
      "\n",
      "\n",
      "\n",
      "WARC/1.0\n",
      "WARC-Type: response\n",
      "WARC-Date: 2024-10-14T01:37:39Z\n",
      "WARC-Record-ID: <urn:uuid:62bfe4f9-4feb-4b56-b8ab-7d63b58f029c>\n",
      "Content-Length: 865327\n",
      "Content-Type: application/http; msgtype=response\n",
      "WARC-Warcinfo-ID: <urn:uuid:2d4f52d6-aad5-42da-9be0-8f621c9ae90b>\n",
      "WARC-Concurrent-To: <urn:uuid:ad52513e-a3ea-40af-9c1d-c30865ba976e>\n",
      "WARC-IP-Address: 107.163.242.176\n",
      "WARC-Target-URI: http://0.angelautotires.net/virtual-tour/\n",
      "WARC-Protocol: http/1.1\n",
      "WARC-Payload-Digest: sha1:TX7VWSEE7CCYHOYY5IEXO3XOHSTCDYN5\n",
      "WARC-Block-Digest: sha1:2OQO7TMOOMS44UPBBSIXIMY5XYZGVAWU\n",
      "WARC-Identified-Payload-Type: text/html\n",
      "\n",
      "HTTP/1.1 200 OK\n",
      "Server: nginx\n",
      "Date: Mon, 14 Oct 2024 01:37:39 GMT\n",
      "Content-Type: text/html; charset=UTF-8; charset=utf-8\n",
      "X-Crawler-Transfer-Encoding: chunked\n",
      "Connection: keep-alive\n",
      "Vary: Accept-Encoding\n",
      "X-Crawler-Content-Encoding: gzip\n",
      "Content-Length: 865058\n",
      "\n",
      "<!DOCTYPE html>\n",
      "<html class=\"avada-html-layout-wide avada-html-header-position-top avada-is-100-percent-template\" lang=\"en-US\" prefix=\"og: http://ogp.me/ns# fb: http://ogp.me/ns/fb#\"><head>\n",
      "<meta name=\"applicable-device\" content=\"pc,mobile\"/>\n",
      "\t<meta content=\"IE=edge\" http-equiv=\"X-UA-Compatible\"/>\n",
      "\t<meta content=\"text/html; charset=utf-8\" http-equiv=\"Content-Type\"/>\n",
      "\t<meta content=\"width=device-width, initial-scale=1\" name=\"viewport\"/>\n",
      "\t\n",
      "<!-- Search Engine Optimization by Rank Math PRO - http://rankmath.com/ -->\n",
      "<title>Mental Health Facility Virtual Tour in Plainfield, IN | Hendricks Behavioral Hospital&#45;&#36172;&#25615;&#25490;&#34892;&#21069;&#21313;&#32593;&#31449;</title>\n",
      "<meta content=\"Click here to take a virtual tour of our facility in Plainfield, Indiana\" name=\"description\"/>\n",
      "<meta content=\"follow, noindex\" name=\"robots\"/>\n",
      "<meta content=\"en_US\" property=\"og:locale\"/>\n",
      "<meta content=\"article\" property=\"og:type\"/>\n",
      "<meta content=\"Mental Health Facility Virtual Tour in Plainfield, IN | Hendricks Behavioral Hospital\" property=\"og:title\"/>\n",
      "<meta content=\"Click here to take a virtual tour of our facility in Plainfield, Indiana\" property=\"og:description\"/>\n",
      "<meta content=\"http://0.angelautotires.net/virtual-tour/\" property=\"og:url\"/>\n",
      "<meta content=\"Hendricks Behavioral Hospital\" property=\"og:site_name\"/>\n",
      "<meta content=\"2021-10-13T15:59:11-04:00\" property=\"og:updated_time\"/>\n",
      "<meta content=\"summary_large_image\" name=\"twitter:card\"/>\n",
      "<meta content=\"Mental Health Facility Virtual Tour in Plainfield, IN | Hendricks Behavioral Hospital\" name=\"twitter:title\"/>\n",
      "<meta content=\"Click here to take a virtual tour of our facility in Plainfield, Indiana\" name=\"twitter:description\"/>\n",
      "<meta content=\"Time to read\" name=\"twitter:label1\"/>\n",
      "<meta content=\"7 minutes\" name=\"twitter:data1\"/>\n",
      "<!-- /Rank Math WordPress SEO plugin -->\n",
      "\n",
      "<link href=\"http://0.angelautotires.net/feed/\" rel=\"alternate\" title=\"Hendricks Behavioral Hospital » Feed\" type=\"application/rss+xml\"/>\n",
      "<link href=\"http://0.angelautotires.net/comments/feed/\" rel=\"alternate\" title=\"Hendricks Behavioral Hospital » Comments Feed\" type=\"application/rss+xml\"/>\n",
      "\t\t\t\t\t<link href=\"http://0.angelautotires.net/wp-content/uploads/HBH_favicon.svg\" rel=\"shortcut icon\" type=\"image/x-icon\"/>\n",
      "\t\t\n",
      "\t\t\t\t\t<!-- For iPhone -->\n",
      "\t\t\t<link href=\"http://0.angelautotires.net/wp-content/uploads/HBH_favicon.svg\" rel=\"apple-touch-icon\"/>\n",
      "\t\t\n",
      "\t\t\t\t\t<!-- For iPhone Retina display -->\n",
      "\t\t\t<link href=\"http://0.angelautotires.net/wp-content/uploads/HBH_favicon.svg\" rel=\"apple-touch-icon\" sizes=\"180x180\"/>\n",
      "\t\t\n",
      "\t\t\t\t\t<!-- For iPad -->\n",
      "\t\t\t<link href=\"http://0.angelautotires.net/wp-content/uploads/HBH_favicon.svg\" rel=\"apple-touch-icon\" sizes=\"152x152\"/>\n",
      "\t\t\n",
      "\t\t\t\t\t<!-- For iPad Retina display -->\n",
      "\t\t\t<link href=\"http://0.angelautotires.net/wp-content/uploads/HBH_favicon.svg\" rel=\"apple-touch-icon\" sizes=\"167x167\"/>\n",
      "\t\t\n",
      "\t\t\n",
      "\t\t<meta content=\"Tour Our Facility\" property=\"og:title\"/>\n",
      "\t\t<meta content=\"article\" property=\"og:type\"/>\n",
      "\t\t<meta content=\"http://0.angelautotires.net/virtual-tour/\" property=\"og:url\"/>\n",
      "\t\t<meta content=\"Hendricks Behavioral Hospital\" property=\"og:site_name\"/>\n",
      "\t\t<meta content=\"Virtual Tour    \n",
      "Photo Gallery\" property=\"og:description\"/>\n",
      "\n",
      "\t\t\t\t\t\t\t\t\t<meta content=\"http://0.angelautotires.net/wp-content/uploads/hendricks_logo_white.svg\" property=\"og:image\"/>\n",
      "\t\t\t\t\t\t\t<link href=\"http://0.angelautotires.net/wp-content/plugins/formidable/css/formidableforms.css?ver=919501\" id=\"formidable-css\" media=\"all\" rel=\"stylesheet\" type=\"text/css\"/>\n",
      "<style id=\"classic-theme-styles-inline-css\" type=\"text/css\">\n",
      "/*! This file is auto-generated */\n",
      ".wp-block-button__link{color:#fff;background-color:#32373c;border-radius:9999px;box-shadow:none;text-decoration:none;padding:calc(.667em + 2px) calc(1.333em + 2px);font-size:1.125em}.wp-block-file__button{background:#32373c;color:#fff;text-decoration:none}\n",
      "</style>\n",
      "<style id=\"global-styles-inline-css\" type=\"text/css\">\n",
      ":root{--wp--preset--aspect-ratio--square: 1;--wp--preset--aspect-ratio--4-3: 4/3;--wp--preset--aspect-ratio--3-4: 3/4;--wp--preset--aspect-ratio--3-2: 3/2;--wp--preset--aspect-ratio--2-3: 2/3;--wp--preset--aspect-ratio--16-9: 16/9;--wp--preset--aspect-ratio--9-16: 9/16;--wp--preset--color--black: #000000;--wp--preset--color--cyan-bluish-gray: #abb8c3;--wp--preset--color--white: #ffffff;--wp--preset--color--pale-pink: #f78da7;--wp--preset--color--vivid-red: #cf2e2e;--wp--preset--color--luminous-vivid-orange: #ff6900;--wp--preset--color--luminous-vivid-amber: #fcb900;--wp--preset--color--light-green-cyan: #7bdcb5;--wp--preset--color--vivid-green-cyan: #00d084;--wp--preset--color--pale-cyan-blue: #8ed1fc;--wp--preset--color--vivid-cyan-blue: #0693e3;--wp--preset--color--vivid-purple: #9b51e0;--wp--preset--gradient--vivid-cyan-blue-to-vivid-purple: linear-gradient(135deg,rgba(6,147,227,1) 0%,rgb(155,81,224) 100%);--wp--preset--gradient--light-green-cyan-to-vivid-green-cyan: linear-gradient(135deg,rgb(122,220,180) 0%,rgb(0,208,130) 100%);--wp--preset--gradient--luminous-vivid-amber-to-luminous-vivid-orange: linear-gradient(135deg,rgba(252,185,0,1) 0%,rgba(255,105,0,1) 100%);--wp--preset--gradient--luminous-vivid-orange-to-vivid-red: linear-gradient(135deg,rgba(255,105,0,1) 0%,rgb(207,46,46) 100%);--wp--preset--gradient--very-light-gray-to-cyan-bluish-gray: linear-gradient(135deg,rgb(238,238,238) 0%,rgb(169,184,195) 100%);--wp--preset--gradient--cool-to-warm-spectrum: linear-gradient(135deg,rgb(74,234,220) 0%,rgb(151,120,209) 20%,rgb(207,42,186) 40%,rgb(238,44,130) 60%,rgb(251,105,98) 80%,rgb(254,248,76) 100%);--wp--preset--gradient--blush-light-purple: linear-gradient(135deg,rgb(255,206,236) 0%,rgb(152,150,240) 100%);--wp--preset--gradient--blush-bordeaux: linear-gradient(135deg,rgb(254,205,165) 0%,rgb(254,45,45) 50%,rgb(107,0,62) 100%);--wp--preset--gradient--luminous-dusk: linear-gradient(135deg,rgb(255,203,112) 0%,rgb(199,81,192) 50%,rgb(65,88,208) 100%);--wp--preset--gradient--pale-ocean: linear-gradient(135deg,rgb(255,245,203) 0%,rgb(182,227,212) 50%,rgb(51,167,181) 100%);--wp--preset--gradient--electric-grass: linear-gradient(135deg,rgb(202,248,128) 0%,rgb(113,206,126) 100%);--wp--preset--gradient--midnight: linear-gradient(135deg,rgb(2,3,129) 0%,rgb(40,116,252) 100%);--wp--preset--font-size--small: 12.75px;--wp--preset--font-size--medium: 20px;--wp--preset--font-size--large: 25.5px;--wp--preset--font-size--x-large: 42px;--wp--preset--font-size--normal: 17px;--wp--preset--font-size--xlarge: 34px;--wp--preset--font-size--huge: 51px;--wp--preset--spacing--20: 0.44rem;--wp--preset--spacing--30: 0.67rem;--wp--preset--spacing--40: 1rem;--wp--preset--spacing--50: 1.5rem;--wp--preset--spacing--60: 2.25rem;--wp--preset--spacing--70: 3.38rem;--wp--preset--spacing--80: 5.06rem;--wp--preset--shadow--natural: 6px 6px 9px rgba(0, 0, 0, 0.2);--wp--preset--shadow--deep: 12px 12px 50px rgba(0, 0, 0, 0.4);--wp--preset--shadow--sharp: 6px 6px 0px rgba(0, 0, 0, 0.2);--wp--preset--shadow--outlined: 6px 6px 0px -3px rgba(255, 255, 255, 1), 6px 6px rgba(0, 0, 0, 1);--wp--preset--shadow--crisp: 6px 6px 0px rgba(0, 0, 0, 1);}:where(.is-layout-flex){gap: 0.5em;}:where(.is-layout-grid){gap: 0.5em;}body .is-layout-flex{display: flex;}.is-layout-flex{flex-wrap: wrap;align-items: center;}.is-layout-flex > :is(*, div){margin: 0;}body .is-layout-grid{display: grid;}.is-layout-grid > :is(*, div){margin: 0;}:where(.wp-block-columns.is-layout-flex){gap: 2em;}:where(.wp-block-columns.is-layout-grid){gap: 2em;}:where(.wp-block-post-template.is-layout-flex){gap: 1.25em;}:where(.wp-block-post-template.is-layout-grid){gap: 1.25em;}.has-black-color{color: var(--wp--preset--color--black) !important;}.has-cyan-bluish-gray-color{color: var(--wp--preset\n"
     ]
    }
   ],
   "source": [
    "with open('./examples/CC-MAIN-20241014005649-20241014035649-00707.warc', 'rb') as f:\n",
    "  file_content = f.read(10000).decode('utf-8')\n",
    "  print(file_content)"
   ]
  },
  {
   "cell_type": "code",
   "execution_count": 83,
   "id": "568f8325",
   "metadata": {},
   "outputs": [],
   "source": [
    "import warcio"
   ]
  },
  {
   "cell_type": "code",
   "execution_count": null,
   "id": "8f13810e",
   "metadata": {},
   "outputs": [],
   "source": []
  }
 ],
 "metadata": {
  "kernelspec": {
   "display_name": "myenv",
   "language": "python",
   "name": "python3"
  },
  "language_info": {
   "codemirror_mode": {
    "name": "ipython",
    "version": 3
   },
   "file_extension": ".py",
   "mimetype": "text/x-python",
   "name": "python",
   "nbconvert_exporter": "python",
   "pygments_lexer": "ipython3",
   "version": "3.12.4"
  }
 },
 "nbformat": 4,
 "nbformat_minor": 5
}
