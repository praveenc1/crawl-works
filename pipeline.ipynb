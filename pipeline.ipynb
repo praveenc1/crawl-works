{
 "cells": [
  {
   "cell_type": "code",
   "execution_count": 1,
   "id": "eb570aca",
   "metadata": {},
   "outputs": [],
   "source": [
    "!python -m venv myenv\n"
   ]
  },
  {
   "cell_type": "code",
   "execution_count": 3,
   "id": "b5fdc66b",
   "metadata": {},
   "outputs": [
    {
     "name": "stdout",
     "output_type": "stream",
     "text": [
      "Requirement already satisfied: duckdb in ./.venv/lib/python3.13/site-packages (from -r requirements.txt (line 1)) (1.1.3)\n",
      "Requirement already satisfied: pandas in ./.venv/lib/python3.13/site-packages (from -r requirements.txt (line 2)) (2.2.3)\n",
      "Requirement already satisfied: polars in ./.venv/lib/python3.13/site-packages (from -r requirements.txt (line 3)) (1.17.1)\n",
      "Requirement already satisfied: numpy in ./.venv/lib/python3.13/site-packages (from -r requirements.txt (line 4)) (2.2.0)\n",
      "Requirement already satisfied: pyarrow in ./.venv/lib/python3.13/site-packages (from -r requirements.txt (line 5)) (18.1.0)\n",
      "Requirement already satisfied: python-dateutil>=2.8.2 in ./.venv/lib/python3.13/site-packages (from pandas->-r requirements.txt (line 2)) (2.9.0.post0)\n",
      "Requirement already satisfied: pytz>=2020.1 in ./.venv/lib/python3.13/site-packages (from pandas->-r requirements.txt (line 2)) (2024.2)\n",
      "Requirement already satisfied: tzdata>=2022.7 in ./.venv/lib/python3.13/site-packages (from pandas->-r requirements.txt (line 2)) (2024.2)\n",
      "Requirement already satisfied: six>=1.5 in ./.venv/lib/python3.13/site-packages (from python-dateutil>=2.8.2->pandas->-r requirements.txt (line 2)) (1.17.0)\n"
     ]
    }
   ],
   "source": [
    "!pip install -r requirements.txt"
   ]
  },
  {
   "cell_type": "code",
   "execution_count": 6,
   "id": "616c7d28",
   "metadata": {},
   "outputs": [
    {
     "name": "stdout",
     "output_type": "stream",
     "text": [
      "2023-12-16 12:32:52 amplify-photoapp-staging-173239-deployment\n",
      "2021-12-29 08:41:30 aws-codestar-us-east-1-052552561229\n",
      "2021-12-29 08:42:08 aws-codestar-us-east-1-052552561229-test-pipe\n",
      "2022-01-08 09:33:48 aws-sam-cli-managed-default-samclisourcebucket-18d75byvsmhla\n",
      "2021-10-31 00:32:21 aws-sam-cli-managed-default-samclisourcebucket-cda3h9le376y\n",
      "2024-10-13 21:50:48 datagardeners-privacy\n",
      "2021-12-02 11:12:57 ideastorm-bot-python\n",
      "2021-04-30 22:39:09 ideastorm-bucket\n",
      "2024-10-14 00:02:49 privacy.datagardeners.ai\n",
      "2024-05-01 12:21:56 sagemaker-studio-052552561229-xvzbr6r7pvo\n",
      "2021-12-02 11:13:50 sagemaker-studio-07ujk3wwqh9l\n",
      "2024-05-01 12:21:58 sagemaker-us-east-1-052552561229\n",
      "2022-11-05 21:10:36 sam-app-dev-pipelineartifactsbucket-vzxn3ld8taft\n",
      "2022-11-05 21:10:12 sam-app-dev-pipelineartifactsloggingbucket-1ky5tskm1ghdt\n"
     ]
    }
   ],
   "source": [
    "!aws s3 ls --profile ccprofile"
   ]
  },
  {
   "cell_type": "code",
   "execution_count": 7,
   "id": "f8120e85-4a6f-4292-9515-7a3123b09c9e",
   "metadata": {},
   "outputs": [],
   "source": [
    "import duckdb\n",
    "import pandas as pd"
   ]
  },
  {
   "cell_type": "code",
   "execution_count": 14,
   "id": "c840d54e",
   "metadata": {},
   "outputs": [],
   "source": [
    "con = duckdb.connect('cc_index.duckdb')\n",
    "con.install_extension(\"aws\")\n",
    "con.load_extension(\"aws\")\n",
    "\n",
    "con.install_extension(\"s3\")\n",
    "con.load_extension(\"s3\")\n",
    "\n",
    "con.install_extension(\"httpfs\")\n",
    "con.load_extension(\"httpfs\")"
   ]
  },
  {
   "cell_type": "code",
   "execution_count": 15,
   "id": "44afd8de",
   "metadata": {},
   "outputs": [
    {
     "data": {
      "text/plain": [
       "'https://data.commoncrawl.org/commoncrawl/cc-index/table/cc-main/warc/crawl=CC-MAIN-2024-42/subset=warc/*.parquet'"
      ]
     },
     "execution_count": 15,
     "metadata": {},
     "output_type": "execute_result"
    }
   ],
   "source": [
    "CRAWL_SET = \"CC-MAIN-2024-42\"\n",
    "CC_URL_S3_BASE=\"s3://\"\n",
    "CC_URL_HTTP_BASE=\"https://data.commoncrawl.org/\"\n",
    "CC_INDEX_URL = f\"{CC_URL_HTTP_BASE}commoncrawl/cc-index/table/cc-main/warc/crawl={CRAWL_SET}/subset=warc/*.parquet\"\n",
    "CC_INDEX_S3_URL = f\"{CC_URL_S3_BASE}commoncrawl/cc-index/table/cc-main/warc/crawl={CRAWL_SET}/subset=warc/*.parquet\"\n",
    "CC_INDEX_S3_BASE_URL = f\"{CC_URL_S3_BASE}commoncrawl/cc-index/table/cc-main/warc/crawl={CRAWL_SET}/subset=warc/\"\n",
    "CC_INDEX_URL"
   ]
  },
  {
   "cell_type": "code",
   "execution_count": 16,
   "id": "eebb2f60",
   "metadata": {},
   "outputs": [
    {
     "data": {
      "text/plain": [
       "'s3://commoncrawl/cc-index/table/cc-main/warc/crawl=CC-MAIN-2024-42/subset=warc/*.parquet'"
      ]
     },
     "execution_count": 16,
     "metadata": {},
     "output_type": "execute_result"
    }
   ],
   "source": [
    "CC_INDEX_S3_URL"
   ]
  },
  {
   "cell_type": "code",
   "execution_count": 17,
   "id": "6ab6bf0c",
   "metadata": {},
   "outputs": [
    {
     "name": "stdout",
     "output_type": "stream",
     "text": [
      "s3://commoncrawl/cc-index/table/cc-main/warc/crawl=CC-MAIN-2024-42/subset=warc/\n"
     ]
    }
   ],
   "source": [
    "print(f\"{CC_INDEX_S3_BASE_URL}\")"
   ]
  },
  {
   "cell_type": "code",
   "execution_count": 18,
   "id": "27cbef68",
   "metadata": {},
   "outputs": [
    {
     "data": {
      "text/plain": [
       "<duckdb.duckdb.DuckDBPyConnection at 0x1334d34b0>"
      ]
     },
     "execution_count": 18,
     "metadata": {},
     "output_type": "execute_result"
    }
   ],
   "source": [
    "# Configure S3 settings for DuckDB\n",
    "con.execute(\"\"\"\n",
    "    CALL load_aws_credentials('ccprofile');\n",
    "\"\"\")"
   ]
  },
  {
   "cell_type": "code",
   "execution_count": 19,
   "id": "4af3f192",
   "metadata": {},
   "outputs": [
    {
     "data": {
      "text/plain": [
       "<duckdb.duckdb.DuckDBPyConnection at 0x1334d34b0>"
      ]
     },
     "execution_count": 19,
     "metadata": {},
     "output_type": "execute_result"
    }
   ],
   "source": [
    "con.execute(\"\"\"\n",
    "  DROP SECRET IF EXISTS secret3;\n",
    "  CREATE SECRET secret3 (\n",
    "    TYPE S3,\n",
    "    PROVIDER CREDENTIAL_CHAIN,\n",
    "    CHAIN 'sso'\n",
    "  );\n",
    "            \"\"\")"
   ]
  },
  {
   "cell_type": "code",
   "execution_count": 20,
   "id": "7e4b2112",
   "metadata": {},
   "outputs": [
    {
     "ename": "IOException",
     "evalue": "IO Error: Could not write file \"/Users/praveen/Library/Mobile Documents/com~apple~CloudDocs/git/wk/git/crawl-works/cc_index.duckdb\": No space left on device",
     "output_type": "error",
     "traceback": [
      "\u001b[0;31m---------------------------------------------------------------------------\u001b[0m",
      "\u001b[0;31mIOException\u001b[0m                               Traceback (most recent call last)",
      "Cell \u001b[0;32mIn[20], line 1\u001b[0m\n\u001b[0;32m----> 1\u001b[0m \u001b[43mcon\u001b[49m\u001b[38;5;241;43m.\u001b[39;49m\u001b[43mexecute\u001b[49m\u001b[43m(\u001b[49m\u001b[38;5;124;43mf\u001b[39;49m\u001b[38;5;124;43m\"\"\"\u001b[39;49m\n\u001b[1;32m      2\u001b[0m \u001b[38;5;124;43m  CREATE TABLE IF NOT EXISTS t1 as \u001b[39;49m\n\u001b[1;32m      3\u001b[0m \u001b[38;5;124;43m  SELECT *\u001b[39;49m\n\u001b[1;32m      4\u001b[0m \u001b[38;5;124;43m    FROM read_parquet(\u001b[39;49m\u001b[38;5;124;43m'\u001b[39;49m\u001b[38;5;132;43;01m{\u001b[39;49;00m\u001b[43mCC_INDEX_S3_URL\u001b[49m\u001b[38;5;132;43;01m}\u001b[39;49;00m\u001b[38;5;124;43m'\u001b[39;49m\u001b[38;5;124;43m);\u001b[39;49m\n\u001b[1;32m      5\u001b[0m \u001b[38;5;124;43m  DESCRIBE t1;\u001b[39;49m\n\u001b[1;32m      6\u001b[0m \u001b[38;5;124;43m\"\"\"\u001b[39;49m\u001b[43m)\u001b[49m\u001b[38;5;241m.\u001b[39mdf()\n",
      "\u001b[0;31mIOException\u001b[0m: IO Error: Could not write file \"/Users/praveen/Library/Mobile Documents/com~apple~CloudDocs/git/wk/git/crawl-works/cc_index.duckdb\": No space left on device"
     ]
    }
   ],
   "source": [
    "con.execute(f\"\"\"\n",
    "  CREATE TABLE IF NOT EXISTS t1 as \n",
    "  SELECT *\n",
    "    FROM read_parquet('{CC_INDEX_S3_URL}');\n",
    "  DESCRIBE t1;\n",
    "\"\"\").df()"
   ]
  },
  {
   "cell_type": "code",
   "execution_count": 9,
   "id": "bc78c616",
   "metadata": {},
   "outputs": [],
   "source": [
    "#!cut -d' ' -f3- ../cc/cdx-00000 > ../cc/cdx-00000.jsonl "
   ]
  },
  {
   "cell_type": "markdown",
   "id": "8f07fc7f",
   "metadata": {},
   "source": [
    "# IGNORE EVERYTHING BELOW THIS LINE"
   ]
  },
  {
   "cell_type": "code",
   "execution_count": null,
   "id": "c1972d9f",
   "metadata": {},
   "outputs": [],
   "source": [
    "!duckdb -c \"\\\n",
    "  create table meta as SELECT * FROM '../cc/cdx-00000.jsonl'; \\\n",
    "  create view status_vw as Select status, count(status) as cnt from meta group by status order by cnt desc; \\\n",
    "  select * from meta; \\\n",
    "  select * from status_vw; \\\n",
    "\" {DB_FILE}"
   ]
  },
  {
   "cell_type": "code",
   "execution_count": null,
   "id": "defe24bb",
   "metadata": {},
   "outputs": [],
   "source": [
    "!duckdb -c \".databases\" {DB_FILE}\n",
    "#!duckdb -c \".open hello.db\""
   ]
  },
  {
   "cell_type": "code",
   "execution_count": null,
   "id": "24929561",
   "metadata": {},
   "outputs": [],
   "source": [
    "!duckdb -c \" \\\n",
    "create table metastats as select trim(status) as tstatus, count(trim(status)) as cstatus, round(count(*) * 100.0/sum(count(*)) over(), 2) as pct from meta group by tstatus order by cstatus desc; \\\n",
    "select * from metastats; \\\n",
    "\" {DB_FILE}"
   ]
  },
  {
   "cell_type": "code",
   "execution_count": null,
   "id": "34d83e1b",
   "metadata": {},
   "outputs": [],
   "source": [
    "!duckdb -c \" \\\n",
    "create table metastats_norobotstxt as select trim(status) as tstatus, count(trim(status)) as cstatus, round(count(*) * 100.0/sum(count(*)) over(), 2) as pct from meta where url not like '%robots.txt' group by tstatus order by cstatus desc; \\\n",
    "select * from metastats_norobotstxt; \\\n",
    "\" {DB_FILE}"
   ]
  },
  {
   "cell_type": "code",
   "execution_count": null,
   "id": "e70c6ed4",
   "metadata": {},
   "outputs": [],
   "source": [
    "#!duckdb -c \"drop table metastats\" {DB_FILE}"
   ]
  },
  {
   "cell_type": "code",
   "execution_count": null,
   "id": "bddf59c9",
   "metadata": {},
   "outputs": [],
   "source": [
    "first_line = \"\"\n",
    "with open(\"../cc/cdx-00000\", \"r\") as file:\n",
    "    first_line = file.readline()\n",
    "\n",
    "print(first_line)"
   ]
  },
  {
   "cell_type": "code",
   "execution_count": null,
   "id": "960647b1",
   "metadata": {},
   "outputs": [],
   "source": [
    "!echo \"{first_line}\" | cut -d' ' -f3- "
   ]
  },
  {
   "cell_type": "code",
   "execution_count": null,
   "id": "26a1482f",
   "metadata": {},
   "outputs": [],
   "source": [
    "import json\n",
    "s = '{\"url\": \"http://1.0.0.0/robots.txt\", \"mime\": \"text/html\", \"mime-detected\": \"text/html\", \"status\": \"403\", \"digest\": \"UNFBLUUDKY6EPX25BG4X7TI6J3IS2BBZ\", \"length\": \"2706\", \"offset\": \"890\", \"filename\": \"crawl-data/CC-MAIN-2024-42/segments/1727944253858.36/robotstxt/CC-MAIN-20241011230131-20241012020131-00456.warc.gz\"}'\n",
    "json.loads(s)"
   ]
  }
 ],
 "metadata": {
  "kernelspec": {
   "display_name": "myenv",
   "language": "python",
   "name": "python3"
  },
  "language_info": {
   "codemirror_mode": {
    "name": "ipython",
    "version": 3
   },
   "file_extension": ".py",
   "mimetype": "text/x-python",
   "name": "python",
   "nbconvert_exporter": "python",
   "pygments_lexer": "ipython3",
   "version": "3.13.1"
  }
 },
 "nbformat": 4,
 "nbformat_minor": 5
}
