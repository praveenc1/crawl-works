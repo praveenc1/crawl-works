{
 "cells": [
  {
   "cell_type": "code",
   "execution_count": 17,
   "id": "eb570aca",
   "metadata": {},
   "outputs": [],
   "source": [
    "!python -m venv myenv"
   ]
  },
  {
   "cell_type": "code",
   "execution_count": 18,
   "id": "fcaf1543",
   "metadata": {},
   "outputs": [
    {
     "name": "stdout",
     "output_type": "stream",
     "text": [
      "Requirement already satisfied: duckdb in ./myenv/lib/python3.9/site-packages (1.1.3)\n",
      "Requirement already satisfied: pandas in ./myenv/lib/python3.9/site-packages (2.2.3)\n",
      "Requirement already satisfied: polars in ./myenv/lib/python3.9/site-packages (1.17.1)\n",
      "Requirement already satisfied: numpy in ./myenv/lib/python3.9/site-packages (2.0.2)\n",
      "Requirement already satisfied: pyarrow in ./myenv/lib/python3.9/site-packages (18.1.0)\n",
      "Requirement already satisfied: pytz>=2020.1 in ./myenv/lib/python3.9/site-packages (from pandas) (2024.2)\n",
      "Requirement already satisfied: tzdata>=2022.7 in ./myenv/lib/python3.9/site-packages (from pandas) (2024.2)\n",
      "Requirement already satisfied: python-dateutil>=2.8.2 in ./myenv/lib/python3.9/site-packages (from pandas) (2.9.0.post0)\n",
      "Requirement already satisfied: six>=1.5 in ./myenv/lib/python3.9/site-packages (from python-dateutil>=2.8.2->pandas) (1.17.0)\n"
     ]
    }
   ],
   "source": [
    "!pip install duckdb pandas polars numpy pyarrow"
   ]
  },
  {
   "cell_type": "code",
   "execution_count": 19,
   "id": "616c7d28",
   "metadata": {},
   "outputs": [
    {
     "name": "stdout",
     "output_type": "stream",
     "text": [
      "2023-12-16 17:32:52 amplify-photoapp-staging-173239-deployment\n",
      "2021-12-29 13:41:30 aws-codestar-us-east-1-052552561229\n",
      "2021-12-29 13:42:08 aws-codestar-us-east-1-052552561229-test-pipe\n",
      "2022-01-08 14:33:48 aws-sam-cli-managed-default-samclisourcebucket-18d75byvsmhla\n",
      "2021-10-31 04:32:21 aws-sam-cli-managed-default-samclisourcebucket-cda3h9le376y\n",
      "2024-10-14 01:50:48 datagardeners-privacy\n",
      "2021-12-02 16:12:57 ideastorm-bot-python\n",
      "2021-05-01 02:39:09 ideastorm-bucket\n",
      "2024-10-14 04:02:49 privacy.datagardeners.ai\n",
      "2024-05-01 16:21:56 sagemaker-studio-052552561229-xvzbr6r7pvo\n",
      "2021-12-02 16:13:50 sagemaker-studio-07ujk3wwqh9l\n",
      "2024-05-01 16:21:58 sagemaker-us-east-1-052552561229\n",
      "2022-11-06 01:10:36 sam-app-dev-pipelineartifactsbucket-vzxn3ld8taft\n",
      "2022-11-06 01:10:12 sam-app-dev-pipelineartifactsloggingbucket-1ky5tskm1ghdt\n"
     ]
    }
   ],
   "source": [
    "!aws s3 ls "
   ]
  },
  {
   "cell_type": "code",
   "execution_count": 20,
   "id": "f8120e85-4a6f-4292-9515-7a3123b09c9e",
   "metadata": {},
   "outputs": [],
   "source": [
    "import duckdb\n",
    "import pandas as pd"
   ]
  },
  {
   "cell_type": "code",
   "execution_count": 21,
   "id": "c840d54e",
   "metadata": {},
   "outputs": [],
   "source": [
    "con = duckdb.connect()\n",
    "con.install_extension(\"aws\")\n",
    "con.load_extension(\"aws\")\n",
    "\n",
    "con.install_extension(\"s3\")\n",
    "con.load_extension(\"s3\")\n",
    "\n",
    "con.install_extension(\"httpfs\")\n",
    "con.load_extension(\"httpfs\")"
   ]
  },
  {
   "cell_type": "code",
   "execution_count": 22,
   "id": "44afd8de",
   "metadata": {},
   "outputs": [
    {
     "data": {
      "text/plain": [
       "'https://data.commoncrawl.org/commoncrawl/cc-index/table/cc-main/warc/crawl=CC-MAIN-2024-42/subset=warc/*.parquet'"
      ]
     },
     "execution_count": 22,
     "metadata": {},
     "output_type": "execute_result"
    }
   ],
   "source": [
    "CRAWL_SET = \"CC-MAIN-2024-42\"\n",
    "CC_URL_S3_BASE=\"s3://\"\n",
    "CC_URL_HTTP_BASE=\"https://data.commoncrawl.org/\"\n",
    "CC_INDEX_URL = f\"{CC_URL_HTTP_BASE}commoncrawl/cc-index/table/cc-main/warc/crawl={CRAWL_SET}/subset=warc/*.parquet\"\n",
    "CC_INDEX_S3_URL = f\"{CC_URL_S3_BASE}commoncrawl/cc-index/table/cc-main/warc/crawl={CRAWL_SET}/subset=warc/*.parquet\"\n",
    "CC_INDEX_S3_BASE_URL = f\"{CC_URL_S3_BASE}commoncrawl/cc-index/table/cc-main/warc/crawl={CRAWL_SET}/subset=warc/\"\n",
    "CC_INDEX_URL"
   ]
  },
  {
   "cell_type": "code",
   "execution_count": 23,
   "id": "eebb2f60",
   "metadata": {},
   "outputs": [
    {
     "data": {
      "text/plain": [
       "'s3://commoncrawl/cc-index/table/cc-main/warc/crawl=CC-MAIN-2024-42/subset=warc/*.parquet'"
      ]
     },
     "execution_count": 23,
     "metadata": {},
     "output_type": "execute_result"
    }
   ],
   "source": [
    "CC_INDEX_S3_URL"
   ]
  },
  {
   "cell_type": "code",
   "execution_count": 24,
   "id": "6ab6bf0c",
   "metadata": {},
   "outputs": [
    {
     "name": "stdout",
     "output_type": "stream",
     "text": [
      "s3://commoncrawl/cc-index/table/cc-main/warc/crawl=CC-MAIN-2024-42/subset=warc/\n"
     ]
    }
   ],
   "source": [
    "print(f\"{CC_INDEX_S3_BASE_URL}\")"
   ]
  },
  {
   "cell_type": "code",
   "execution_count": 25,
   "id": "27cbef68",
   "metadata": {},
   "outputs": [
    {
     "data": {
      "text/plain": [
       "<duckdb.duckdb.DuckDBPyConnection at 0xffff70d52870>"
      ]
     },
     "execution_count": 25,
     "metadata": {},
     "output_type": "execute_result"
    }
   ],
   "source": [
    "# Configure S3 settings for DuckDB\n",
    "con.execute(\"\"\"\n",
    "    CALL load_aws_credentials();\n",
    "\"\"\")"
   ]
  },
  {
   "cell_type": "code",
   "execution_count": 26,
   "id": "4af3f192",
   "metadata": {},
   "outputs": [
    {
     "data": {
      "text/plain": [
       "<duckdb.duckdb.DuckDBPyConnection at 0xffff70d52870>"
      ]
     },
     "execution_count": 26,
     "metadata": {},
     "output_type": "execute_result"
    }
   ],
   "source": [
    "con.execute(\"\"\"\n",
    "  CREATE SECRET secret3 (\n",
    "    TYPE S3,\n",
    "    PROVIDER CREDENTIAL_CHAIN,\n",
    "    CHAIN 'sso'\n",
    "  );\n",
    "            \"\"\")"
   ]
  },
  {
   "cell_type": "code",
   "execution_count": 27,
   "id": "ba636bb5",
   "metadata": {},
   "outputs": [
    {
     "name": "stdout",
     "output_type": "stream",
     "text": [
      "First 5 rows of Common Crawl index:\n",
      "                                         url_surtkey  \\\n",
      "0  com,blogspot,blogdocappacete)/2012/11/a-breve-...   \n",
      "1  com,blogspot,blogdocappacete)/2012/11/burguesi...   \n",
      "2  com,blogspot,blogdocappacete)/2012/11/deputado...   \n",
      "3  com,blogspot,blogdocappacete)/2012/11/enquanto...   \n",
      "4  com,blogspot,blogdocappacete)/2012/11/matanca-...   \n",
      "\n",
      "                                                 url  \\\n",
      "0  https://blogdocappacete.blogspot.com/2012/11/a...   \n",
      "1  https://blogdocappacete.blogspot.com/2012/11/b...   \n",
      "2  https://blogdocappacete.blogspot.com/2012/11/d...   \n",
      "3  https://blogdocappacete.blogspot.com/2012/11/e...   \n",
      "4  https://blogdocappacete.blogspot.com/2012/11/m...   \n",
      "\n",
      "                  url_host_name url_host_tld url_host_2nd_last_part  \\\n",
      "0  blogdocappacete.blogspot.com          com               blogspot   \n",
      "1  blogdocappacete.blogspot.com          com               blogspot   \n",
      "2  blogdocappacete.blogspot.com          com               blogspot   \n",
      "3  blogdocappacete.blogspot.com          com               blogspot   \n",
      "4  blogdocappacete.blogspot.com          com               blogspot   \n",
      "\n",
      "  url_host_3rd_last_part url_host_4th_last_part url_host_5th_last_part  \\\n",
      "0        blogdocappacete                   None                   None   \n",
      "1        blogdocappacete                   None                   None   \n",
      "2        blogdocappacete                   None                   None   \n",
      "3        blogdocappacete                   None                   None   \n",
      "4        blogdocappacete                   None                   None   \n",
      "\n",
      "  url_host_registry_suffix url_host_registered_domain  ...  \\\n",
      "0                      com               blogspot.com  ...   \n",
      "1                      com               blogspot.com  ...   \n",
      "2                      com               blogspot.com  ...   \n",
      "3                      com               blogspot.com  ...   \n",
      "4                      com               blogspot.com  ...   \n",
      "\n",
      "  content_mime_detected content_charset content_languages content_truncated  \\\n",
      "0             text/html           UTF-8               por              None   \n",
      "1             text/html           UTF-8               por              None   \n",
      "2             text/html           UTF-8               por              None   \n",
      "3             text/html           UTF-8               por              None   \n",
      "4             text/html           UTF-8               por              None   \n",
      "\n",
      "                                       warc_filename warc_record_offset  \\\n",
      "0  crawl-data/CC-MAIN-2024-42/segments/1727944591...          114491262   \n",
      "1  crawl-data/CC-MAIN-2024-42/segments/1727944255...          114095127   \n",
      "2  crawl-data/CC-MAIN-2024-42/segments/1727944255...          111972223   \n",
      "3  crawl-data/CC-MAIN-2024-42/segments/1727944591...          120336331   \n",
      "4  crawl-data/CC-MAIN-2024-42/segments/1727944255...          106439808   \n",
      "\n",
      "  warc_record_length      warc_segment            crawl subset  \n",
      "0              16959  1727944591543.93  CC-MAIN-2024-42   warc  \n",
      "1              22625  1727944255580.90  CC-MAIN-2024-42   warc  \n",
      "2              14363  1727944255196.91  CC-MAIN-2024-42   warc  \n",
      "3              12551  1727944591543.93  CC-MAIN-2024-42   warc  \n",
      "4              27644  1727944255196.91  CC-MAIN-2024-42   warc  \n",
      "\n",
      "[5 rows x 32 columns]\n"
     ]
    }
   ],
   "source": [
    "# Read first few rows of Common Crawl index without downloading full dataset\n",
    "try:\n",
    "    query = f\"\"\"\n",
    "        SELECT *\n",
    "        FROM read_parquet('{CC_INDEX_S3_URL}')\n",
    "        LIMIT 10\n",
    "    \"\"\"\n",
    "    df = con.execute(query).fetchdf()\n",
    "    print(\"First 5 rows of Common Crawl index:\")\n",
    "    print(df.head())\n",
    "except Exception as e:\n",
    "    print(f\"Error reading Common Crawl index: {str(e)}\")\n"
   ]
  },
  {
   "cell_type": "code",
   "execution_count": 28,
   "id": "7e4b2112",
   "metadata": {},
   "outputs": [
    {
     "data": {
      "text/html": [
       "<div>\n",
       "<style scoped>\n",
       "    .dataframe tbody tr th:only-of-type {\n",
       "        vertical-align: middle;\n",
       "    }\n",
       "\n",
       "    .dataframe tbody tr th {\n",
       "        vertical-align: top;\n",
       "    }\n",
       "\n",
       "    .dataframe thead th {\n",
       "        text-align: right;\n",
       "    }\n",
       "</style>\n",
       "<table border=\"1\" class=\"dataframe\">\n",
       "  <thead>\n",
       "    <tr style=\"text-align: right;\">\n",
       "      <th></th>\n",
       "      <th>column_name</th>\n",
       "      <th>column_type</th>\n",
       "      <th>null</th>\n",
       "      <th>key</th>\n",
       "      <th>default</th>\n",
       "      <th>extra</th>\n",
       "    </tr>\n",
       "  </thead>\n",
       "  <tbody>\n",
       "    <tr>\n",
       "      <th>0</th>\n",
       "      <td>url_surtkey</td>\n",
       "      <td>VARCHAR</td>\n",
       "      <td>YES</td>\n",
       "      <td>None</td>\n",
       "      <td>None</td>\n",
       "      <td>None</td>\n",
       "    </tr>\n",
       "    <tr>\n",
       "      <th>1</th>\n",
       "      <td>url</td>\n",
       "      <td>VARCHAR</td>\n",
       "      <td>YES</td>\n",
       "      <td>None</td>\n",
       "      <td>None</td>\n",
       "      <td>None</td>\n",
       "    </tr>\n",
       "    <tr>\n",
       "      <th>2</th>\n",
       "      <td>url_host_name</td>\n",
       "      <td>VARCHAR</td>\n",
       "      <td>YES</td>\n",
       "      <td>None</td>\n",
       "      <td>None</td>\n",
       "      <td>None</td>\n",
       "    </tr>\n",
       "    <tr>\n",
       "      <th>3</th>\n",
       "      <td>url_host_tld</td>\n",
       "      <td>VARCHAR</td>\n",
       "      <td>YES</td>\n",
       "      <td>None</td>\n",
       "      <td>None</td>\n",
       "      <td>None</td>\n",
       "    </tr>\n",
       "    <tr>\n",
       "      <th>4</th>\n",
       "      <td>url_host_2nd_last_part</td>\n",
       "      <td>VARCHAR</td>\n",
       "      <td>YES</td>\n",
       "      <td>None</td>\n",
       "      <td>None</td>\n",
       "      <td>None</td>\n",
       "    </tr>\n",
       "    <tr>\n",
       "      <th>5</th>\n",
       "      <td>url_host_3rd_last_part</td>\n",
       "      <td>VARCHAR</td>\n",
       "      <td>YES</td>\n",
       "      <td>None</td>\n",
       "      <td>None</td>\n",
       "      <td>None</td>\n",
       "    </tr>\n",
       "    <tr>\n",
       "      <th>6</th>\n",
       "      <td>url_host_4th_last_part</td>\n",
       "      <td>VARCHAR</td>\n",
       "      <td>YES</td>\n",
       "      <td>None</td>\n",
       "      <td>None</td>\n",
       "      <td>None</td>\n",
       "    </tr>\n",
       "    <tr>\n",
       "      <th>7</th>\n",
       "      <td>url_host_5th_last_part</td>\n",
       "      <td>VARCHAR</td>\n",
       "      <td>YES</td>\n",
       "      <td>None</td>\n",
       "      <td>None</td>\n",
       "      <td>None</td>\n",
       "    </tr>\n",
       "    <tr>\n",
       "      <th>8</th>\n",
       "      <td>url_host_registry_suffix</td>\n",
       "      <td>VARCHAR</td>\n",
       "      <td>YES</td>\n",
       "      <td>None</td>\n",
       "      <td>None</td>\n",
       "      <td>None</td>\n",
       "    </tr>\n",
       "    <tr>\n",
       "      <th>9</th>\n",
       "      <td>url_host_registered_domain</td>\n",
       "      <td>VARCHAR</td>\n",
       "      <td>YES</td>\n",
       "      <td>None</td>\n",
       "      <td>None</td>\n",
       "      <td>None</td>\n",
       "    </tr>\n",
       "    <tr>\n",
       "      <th>10</th>\n",
       "      <td>url_host_private_suffix</td>\n",
       "      <td>VARCHAR</td>\n",
       "      <td>YES</td>\n",
       "      <td>None</td>\n",
       "      <td>None</td>\n",
       "      <td>None</td>\n",
       "    </tr>\n",
       "    <tr>\n",
       "      <th>11</th>\n",
       "      <td>url_host_private_domain</td>\n",
       "      <td>VARCHAR</td>\n",
       "      <td>YES</td>\n",
       "      <td>None</td>\n",
       "      <td>None</td>\n",
       "      <td>None</td>\n",
       "    </tr>\n",
       "    <tr>\n",
       "      <th>12</th>\n",
       "      <td>url_host_name_reversed</td>\n",
       "      <td>VARCHAR</td>\n",
       "      <td>YES</td>\n",
       "      <td>None</td>\n",
       "      <td>None</td>\n",
       "      <td>None</td>\n",
       "    </tr>\n",
       "    <tr>\n",
       "      <th>13</th>\n",
       "      <td>url_protocol</td>\n",
       "      <td>VARCHAR</td>\n",
       "      <td>YES</td>\n",
       "      <td>None</td>\n",
       "      <td>None</td>\n",
       "      <td>None</td>\n",
       "    </tr>\n",
       "    <tr>\n",
       "      <th>14</th>\n",
       "      <td>url_port</td>\n",
       "      <td>INTEGER</td>\n",
       "      <td>YES</td>\n",
       "      <td>None</td>\n",
       "      <td>None</td>\n",
       "      <td>None</td>\n",
       "    </tr>\n",
       "    <tr>\n",
       "      <th>15</th>\n",
       "      <td>url_path</td>\n",
       "      <td>VARCHAR</td>\n",
       "      <td>YES</td>\n",
       "      <td>None</td>\n",
       "      <td>None</td>\n",
       "      <td>None</td>\n",
       "    </tr>\n",
       "    <tr>\n",
       "      <th>16</th>\n",
       "      <td>url_query</td>\n",
       "      <td>VARCHAR</td>\n",
       "      <td>YES</td>\n",
       "      <td>None</td>\n",
       "      <td>None</td>\n",
       "      <td>None</td>\n",
       "    </tr>\n",
       "    <tr>\n",
       "      <th>17</th>\n",
       "      <td>fetch_time</td>\n",
       "      <td>TIMESTAMP WITH TIME ZONE</td>\n",
       "      <td>YES</td>\n",
       "      <td>None</td>\n",
       "      <td>None</td>\n",
       "      <td>None</td>\n",
       "    </tr>\n",
       "    <tr>\n",
       "      <th>18</th>\n",
       "      <td>fetch_status</td>\n",
       "      <td>SMALLINT</td>\n",
       "      <td>YES</td>\n",
       "      <td>None</td>\n",
       "      <td>None</td>\n",
       "      <td>None</td>\n",
       "    </tr>\n",
       "    <tr>\n",
       "      <th>19</th>\n",
       "      <td>fetch_redirect</td>\n",
       "      <td>VARCHAR</td>\n",
       "      <td>YES</td>\n",
       "      <td>None</td>\n",
       "      <td>None</td>\n",
       "      <td>None</td>\n",
       "    </tr>\n",
       "    <tr>\n",
       "      <th>20</th>\n",
       "      <td>content_digest</td>\n",
       "      <td>VARCHAR</td>\n",
       "      <td>YES</td>\n",
       "      <td>None</td>\n",
       "      <td>None</td>\n",
       "      <td>None</td>\n",
       "    </tr>\n",
       "    <tr>\n",
       "      <th>21</th>\n",
       "      <td>content_mime_type</td>\n",
       "      <td>VARCHAR</td>\n",
       "      <td>YES</td>\n",
       "      <td>None</td>\n",
       "      <td>None</td>\n",
       "      <td>None</td>\n",
       "    </tr>\n",
       "    <tr>\n",
       "      <th>22</th>\n",
       "      <td>content_mime_detected</td>\n",
       "      <td>VARCHAR</td>\n",
       "      <td>YES</td>\n",
       "      <td>None</td>\n",
       "      <td>None</td>\n",
       "      <td>None</td>\n",
       "    </tr>\n",
       "    <tr>\n",
       "      <th>23</th>\n",
       "      <td>content_charset</td>\n",
       "      <td>VARCHAR</td>\n",
       "      <td>YES</td>\n",
       "      <td>None</td>\n",
       "      <td>None</td>\n",
       "      <td>None</td>\n",
       "    </tr>\n",
       "    <tr>\n",
       "      <th>24</th>\n",
       "      <td>content_languages</td>\n",
       "      <td>VARCHAR</td>\n",
       "      <td>YES</td>\n",
       "      <td>None</td>\n",
       "      <td>None</td>\n",
       "      <td>None</td>\n",
       "    </tr>\n",
       "    <tr>\n",
       "      <th>25</th>\n",
       "      <td>content_truncated</td>\n",
       "      <td>VARCHAR</td>\n",
       "      <td>YES</td>\n",
       "      <td>None</td>\n",
       "      <td>None</td>\n",
       "      <td>None</td>\n",
       "    </tr>\n",
       "    <tr>\n",
       "      <th>26</th>\n",
       "      <td>warc_filename</td>\n",
       "      <td>VARCHAR</td>\n",
       "      <td>YES</td>\n",
       "      <td>None</td>\n",
       "      <td>None</td>\n",
       "      <td>None</td>\n",
       "    </tr>\n",
       "    <tr>\n",
       "      <th>27</th>\n",
       "      <td>warc_record_offset</td>\n",
       "      <td>INTEGER</td>\n",
       "      <td>YES</td>\n",
       "      <td>None</td>\n",
       "      <td>None</td>\n",
       "      <td>None</td>\n",
       "    </tr>\n",
       "    <tr>\n",
       "      <th>28</th>\n",
       "      <td>warc_record_length</td>\n",
       "      <td>INTEGER</td>\n",
       "      <td>YES</td>\n",
       "      <td>None</td>\n",
       "      <td>None</td>\n",
       "      <td>None</td>\n",
       "    </tr>\n",
       "    <tr>\n",
       "      <th>29</th>\n",
       "      <td>warc_segment</td>\n",
       "      <td>VARCHAR</td>\n",
       "      <td>YES</td>\n",
       "      <td>None</td>\n",
       "      <td>None</td>\n",
       "      <td>None</td>\n",
       "    </tr>\n",
       "    <tr>\n",
       "      <th>30</th>\n",
       "      <td>crawl</td>\n",
       "      <td>VARCHAR</td>\n",
       "      <td>YES</td>\n",
       "      <td>None</td>\n",
       "      <td>None</td>\n",
       "      <td>None</td>\n",
       "    </tr>\n",
       "    <tr>\n",
       "      <th>31</th>\n",
       "      <td>subset</td>\n",
       "      <td>VARCHAR</td>\n",
       "      <td>YES</td>\n",
       "      <td>None</td>\n",
       "      <td>None</td>\n",
       "      <td>None</td>\n",
       "    </tr>\n",
       "  </tbody>\n",
       "</table>\n",
       "</div>"
      ],
      "text/plain": [
       "                   column_name               column_type null   key default  \\\n",
       "0                  url_surtkey                   VARCHAR  YES  None    None   \n",
       "1                          url                   VARCHAR  YES  None    None   \n",
       "2                url_host_name                   VARCHAR  YES  None    None   \n",
       "3                 url_host_tld                   VARCHAR  YES  None    None   \n",
       "4       url_host_2nd_last_part                   VARCHAR  YES  None    None   \n",
       "5       url_host_3rd_last_part                   VARCHAR  YES  None    None   \n",
       "6       url_host_4th_last_part                   VARCHAR  YES  None    None   \n",
       "7       url_host_5th_last_part                   VARCHAR  YES  None    None   \n",
       "8     url_host_registry_suffix                   VARCHAR  YES  None    None   \n",
       "9   url_host_registered_domain                   VARCHAR  YES  None    None   \n",
       "10     url_host_private_suffix                   VARCHAR  YES  None    None   \n",
       "11     url_host_private_domain                   VARCHAR  YES  None    None   \n",
       "12      url_host_name_reversed                   VARCHAR  YES  None    None   \n",
       "13                url_protocol                   VARCHAR  YES  None    None   \n",
       "14                    url_port                   INTEGER  YES  None    None   \n",
       "15                    url_path                   VARCHAR  YES  None    None   \n",
       "16                   url_query                   VARCHAR  YES  None    None   \n",
       "17                  fetch_time  TIMESTAMP WITH TIME ZONE  YES  None    None   \n",
       "18                fetch_status                  SMALLINT  YES  None    None   \n",
       "19              fetch_redirect                   VARCHAR  YES  None    None   \n",
       "20              content_digest                   VARCHAR  YES  None    None   \n",
       "21           content_mime_type                   VARCHAR  YES  None    None   \n",
       "22       content_mime_detected                   VARCHAR  YES  None    None   \n",
       "23             content_charset                   VARCHAR  YES  None    None   \n",
       "24           content_languages                   VARCHAR  YES  None    None   \n",
       "25           content_truncated                   VARCHAR  YES  None    None   \n",
       "26               warc_filename                   VARCHAR  YES  None    None   \n",
       "27          warc_record_offset                   INTEGER  YES  None    None   \n",
       "28          warc_record_length                   INTEGER  YES  None    None   \n",
       "29                warc_segment                   VARCHAR  YES  None    None   \n",
       "30                       crawl                   VARCHAR  YES  None    None   \n",
       "31                      subset                   VARCHAR  YES  None    None   \n",
       "\n",
       "   extra  \n",
       "0   None  \n",
       "1   None  \n",
       "2   None  \n",
       "3   None  \n",
       "4   None  \n",
       "5   None  \n",
       "6   None  \n",
       "7   None  \n",
       "8   None  \n",
       "9   None  \n",
       "10  None  \n",
       "11  None  \n",
       "12  None  \n",
       "13  None  \n",
       "14  None  \n",
       "15  None  \n",
       "16  None  \n",
       "17  None  \n",
       "18  None  \n",
       "19  None  \n",
       "20  None  \n",
       "21  None  \n",
       "22  None  \n",
       "23  None  \n",
       "24  None  \n",
       "25  None  \n",
       "26  None  \n",
       "27  None  \n",
       "28  None  \n",
       "29  None  \n",
       "30  None  \n",
       "31  None  "
      ]
     },
     "execution_count": 28,
     "metadata": {},
     "output_type": "execute_result"
    }
   ],
   "source": [
    "con.execute(f\"\"\"\n",
    "  CREATE TABLE IF NOT EXISTS t1 as \n",
    "  SELECT *\n",
    "    FROM read_parquet('{CC_INDEX_S3_URL}')\n",
    "    LIMIT 100;\n",
    "  DESCRIBE t1;\n",
    "\"\"\").df()"
   ]
  },
  {
   "cell_type": "code",
   "execution_count": 1,
   "id": "4e8e9953",
   "metadata": {},
   "outputs": [
    {
     "ename": "NameError",
     "evalue": "name 'con' is not defined",
     "output_type": "error",
     "traceback": [
      "\u001b[0;31m---------------------------------------------------------------------------\u001b[0m",
      "\u001b[0;31mNameError\u001b[0m                                 Traceback (most recent call last)",
      "Cell \u001b[0;32mIn[1], line 1\u001b[0m\n\u001b[0;32m----> 1\u001b[0m x \u001b[38;5;241m=\u001b[39m \u001b[43mcon\u001b[49m\u001b[38;5;241m.\u001b[39mexecute(\u001b[38;5;124mf\u001b[39m\u001b[38;5;124m\"\"\"\u001b[39m\u001b[38;5;124m select warc_filename from t1 where url_host_name = \u001b[39m\u001b[38;5;124m'\u001b[39m\u001b[38;5;124mblogdocappacete.blogspot.com\u001b[39m\u001b[38;5;124m'\u001b[39m\u001b[38;5;124m limit 10; \u001b[39m\u001b[38;5;124m\"\"\"\u001b[39m)\u001b[38;5;241m.\u001b[39mdf()\u001b[38;5;241m.\u001b[39miloc[\u001b[38;5;241m0\u001b[39m]\u001b[38;5;241m.\u001b[39miloc[\u001b[38;5;241m0\u001b[39m]\n\u001b[1;32m      2\u001b[0m \u001b[38;5;28mprint\u001b[39m(x)\n",
      "\u001b[0;31mNameError\u001b[0m: name 'con' is not defined"
     ]
    }
   ],
   "source": [
    "x = con.execute(f\"\"\" select warc_filename from t1 where url_host_name = 'blogdocappacete.blogspot.com' limit 10; \"\"\").df().iloc[0].iloc[0]\n",
    "print(x)"
   ]
  },
  {
   "cell_type": "code",
   "execution_count": 41,
   "id": "4641fb77",
   "metadata": {},
   "outputs": [
    {
     "name": "stdout",
     "output_type": "stream",
     "text": [
      "--2024-12-12 16:58:19--  https://data.commoncrawl.org/crawl-data/CC-MAIN-2024-42/segments/1727944591543.93/warc/CC-MAIN-20241015204737-20241015234737-00610.warc.gz\n",
      "Resolving data.commoncrawl.org (data.commoncrawl.org)... 3.167.163.111, 3.167.163.74, 3.167.163.83, ...\n",
      "Connecting to data.commoncrawl.org (data.commoncrawl.org)|3.167.163.111|:443... connected.\n",
      "HTTP request sent, awaiting response... 200 OK\n",
      "Length: 948224248 (904M) [application/octet-stream]\n",
      "Saving to: ‘data/CC-MAIN-20241015204737-20241015234737-00610.warc.gz’\n",
      "\n",
      "CC-MAIN-20241015204 100%[===================>] 904.30M  20.3MB/s    in 42s     \n",
      "\n",
      "2024-12-12 16:59:02 (21.5 MB/s) - ‘data/CC-MAIN-20241015204737-20241015234737-00610.warc.gz’ saved [948224248/948224248]\n",
      "\n"
     ]
    }
   ],
   "source": [
    "!wget {CC_URL_HTTP_BASE}{x} -P data/"
   ]
  },
  {
   "cell_type": "code",
   "execution_count": 16,
   "id": "bc78c616",
   "metadata": {},
   "outputs": [],
   "source": [
    "#!cut -d' ' -f3- ../cc/cdx-00000 > ../cc/cdx-00000.jsonl "
   ]
  },
  {
   "cell_type": "markdown",
   "id": "8f07fc7f",
   "metadata": {},
   "source": [
    "# IGNORE EVERYTHING BELOW THIS LINE"
   ]
  },
  {
   "cell_type": "code",
   "execution_count": 15,
   "id": "c1972d9f",
   "metadata": {},
   "outputs": [
    {
     "name": "stdout",
     "output_type": "stream",
     "text": [
      "/bin/bash: line 1: duckdb: command not found\n"
     ]
    }
   ],
   "source": [
    "!duckdb -c \"\\\n",
    "  create table meta as SELECT * FROM '../cc/cdx-00000.jsonl'; \\\n",
    "  create view status_vw as Select status, count(status) as cnt from meta group by status order by cnt desc; \\\n",
    "  select * from meta; \\\n",
    "  select * from status_vw; \\\n",
    "\" {DB_FILE}"
   ]
  },
  {
   "cell_type": "code",
   "execution_count": null,
   "id": "defe24bb",
   "metadata": {},
   "outputs": [],
   "source": [
    "!duckdb -c \".databases\" {DB_FILE}\n",
    "#!duckdb -c \".open hello.db\""
   ]
  },
  {
   "cell_type": "code",
   "execution_count": null,
   "id": "24929561",
   "metadata": {},
   "outputs": [],
   "source": [
    "!duckdb -c \" \\\n",
    "create table metastats as select trim(status) as tstatus, count(trim(status)) as cstatus, round(count(*) * 100.0/sum(count(*)) over(), 2) as pct from meta group by tstatus order by cstatus desc; \\\n",
    "select * from metastats; \\\n",
    "\" {DB_FILE}"
   ]
  },
  {
   "cell_type": "code",
   "execution_count": null,
   "id": "34d83e1b",
   "metadata": {},
   "outputs": [],
   "source": [
    "!duckdb -c \" \\\n",
    "create table metastats_norobotstxt as select trim(status) as tstatus, count(trim(status)) as cstatus, round(count(*) * 100.0/sum(count(*)) over(), 2) as pct from meta where url not like '%robots.txt' group by tstatus order by cstatus desc; \\\n",
    "select * from metastats_norobotstxt; \\\n",
    "\" {DB_FILE}"
   ]
  },
  {
   "cell_type": "code",
   "execution_count": null,
   "id": "e70c6ed4",
   "metadata": {},
   "outputs": [],
   "source": [
    "#!duckdb -c \"drop table metastats\" {DB_FILE}"
   ]
  },
  {
   "cell_type": "code",
   "execution_count": null,
   "id": "bddf59c9",
   "metadata": {},
   "outputs": [],
   "source": [
    "first_line = \"\"\n",
    "with open(\"../cc/cdx-00000\", \"r\") as file:\n",
    "    first_line = file.readline()\n",
    "\n",
    "print(first_line)"
   ]
  },
  {
   "cell_type": "code",
   "execution_count": null,
   "id": "960647b1",
   "metadata": {},
   "outputs": [],
   "source": [
    "!echo \"{first_line}\" | cut -d' ' -f3- "
   ]
  },
  {
   "cell_type": "code",
   "execution_count": null,
   "id": "26a1482f",
   "metadata": {},
   "outputs": [],
   "source": [
    "import json\n",
    "s = '{\"url\": \"http://1.0.0.0/robots.txt\", \"mime\": \"text/html\", \"mime-detected\": \"text/html\", \"status\": \"403\", \"digest\": \"UNFBLUUDKY6EPX25BG4X7TI6J3IS2BBZ\", \"length\": \"2706\", \"offset\": \"890\", \"filename\": \"crawl-data/CC-MAIN-2024-42/segments/1727944253858.36/robotstxt/CC-MAIN-20241011230131-20241012020131-00456.warc.gz\"}'\n",
    "json.loads(s)"
   ]
  }
 ],
 "metadata": {
  "kernelspec": {
   "display_name": "myenv",
   "language": "python",
   "name": "python3"
  },
  "language_info": {
   "codemirror_mode": {
    "name": "ipython",
    "version": 3
   },
   "file_extension": ".py",
   "mimetype": "text/x-python",
   "name": "python",
   "nbconvert_exporter": "python",
   "pygments_lexer": "ipython3",
   "version": "3.9.2"
  }
 },
 "nbformat": 4,
 "nbformat_minor": 5
}
