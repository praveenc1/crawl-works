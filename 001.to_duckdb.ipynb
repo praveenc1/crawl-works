{
 "cells": [
  {
   "cell_type": "code",
   "execution_count": 1,
   "id": "eb570aca",
   "metadata": {},
   "outputs": [],
   "source": [
    "!python -m venv myenv\n"
   ]
  },
  {
   "cell_type": "code",
   "execution_count": 2,
   "id": "b5fdc66b",
   "metadata": {},
   "outputs": [
    {
     "name": "stdout",
     "output_type": "stream",
     "text": [
      "Defaulting to user installation because normal site-packages is not writeable\n",
      "Requirement already satisfied: duckdb in /home/jupyter/.local/lib/python3.9/site-packages (from -r requirements.txt (line 1)) (1.1.3)\n",
      "Requirement already satisfied: pandas in /home/jupyter/.local/lib/python3.9/site-packages (from -r requirements.txt (line 2)) (2.2.3)\n",
      "Collecting polars\n",
      "  Downloading polars-1.17.1-cp39-abi3-manylinux_2_17_x86_64.manylinux2014_x86_64.whl (36.4 MB)\n",
      "     |████████████████████████████████| 36.4 MB 4.8 MB/s            \n",
      "\u001b[?25hRequirement already satisfied: numpy in /home/jupyter/.local/lib/python3.9/site-packages (from -r requirements.txt (line 4)) (2.0.2)\n",
      "Collecting pyarrow\n",
      "  Downloading pyarrow-18.1.0-cp39-cp39-manylinux_2_28_x86_64.whl (40.1 MB)\n",
      "     |████████████████████████████████| 40.1 MB 101.0 MB/s            \n",
      "\u001b[?25hRequirement already satisfied: pytz>=2020.1 in /usr/lib/python3.9/site-packages (from pandas->-r requirements.txt (line 2)) (2022.7.1)\n",
      "Requirement already satisfied: python-dateutil>=2.8.2 in /home/jupyter/.local/lib/python3.9/site-packages (from pandas->-r requirements.txt (line 2)) (2.9.0.post0)\n",
      "Requirement already satisfied: tzdata>=2022.7 in /home/jupyter/.local/lib/python3.9/site-packages (from pandas->-r requirements.txt (line 2)) (2024.2)\n",
      "Requirement already satisfied: six>=1.5 in /usr/lib/python3.9/site-packages (from python-dateutil>=2.8.2->pandas->-r requirements.txt (line 2)) (1.15.0)\n",
      "Installing collected packages: pyarrow, polars\n",
      "Successfully installed polars-1.17.1 pyarrow-18.1.0\n"
     ]
    }
   ],
   "source": [
    "!pip install -r requirements.txt"
   ]
  },
  {
   "cell_type": "code",
   "execution_count": 2,
   "id": "616c7d28",
   "metadata": {},
   "outputs": [
    {
     "name": "stdout",
     "output_type": "stream",
     "text": [
      "                           PRE .test/\n",
      "                           PRE cc-index/\n",
      "                           PRE contrib/\n",
      "                           PRE crawl-001/\n",
      "                           PRE crawl-002/\n",
      "                           PRE crawl-analysis/\n",
      "                           PRE crawl-data/\n",
      "                           PRE data-jsonl/\n",
      "                           PRE hive_analysis/\n",
      "                           PRE index2012/\n",
      "                           PRE mapred-temp/\n",
      "                           PRE meanpath/\n",
      "                           PRE parse-output-test/\n",
      "                           PRE parse-output/\n",
      "                           PRE projects/\n",
      "                           PRE static/\n",
      "                           PRE stats-output/\n",
      "                           PRE wikipedia/\n",
      "2024-06-01 08:15:19       1366 index.html\n",
      "2024-03-24 22:59:18       5384 privacy.txt\n",
      "2016-05-21 18:17:43         25 robots.txt\n",
      "2024-03-08 17:45:23      29480 termsofuse.txt\n"
     ]
    }
   ],
   "source": [
    "!aws s3 ls commoncrawl/"
   ]
  },
  {
   "cell_type": "code",
   "execution_count": 3,
   "id": "f8120e85-4a6f-4292-9515-7a3123b09c9e",
   "metadata": {},
   "outputs": [],
   "source": [
    "import duckdb\n",
    "import pandas as pd"
   ]
  },
  {
   "cell_type": "code",
   "execution_count": 4,
   "id": "d3d75db0-381a-46db-92c1-5c9047ee5c4d",
   "metadata": {},
   "outputs": [
    {
     "name": "stdout",
     "output_type": "stream",
     "text": [
      "download: s3://crawler-works/cc_index.duckdb to ./cc_index.duckdb    \n"
     ]
    }
   ],
   "source": [
    "!aws s3 cp s3://crawler-works/cc_index.duckdb ."
   ]
  },
  {
   "cell_type": "code",
   "execution_count": 5,
   "id": "c840d54e",
   "metadata": {},
   "outputs": [],
   "source": [
    "con = duckdb.connect('cc_index.duckdb')\n",
    "con.install_extension(\"aws\")\n",
    "con.load_extension(\"aws\")\n",
    "\n",
    "con.install_extension(\"s3\")\n",
    "con.load_extension(\"s3\")\n",
    "\n",
    "con.install_extension(\"httpfs\")\n",
    "con.load_extension(\"httpfs\")"
   ]
  },
  {
   "cell_type": "code",
   "execution_count": 6,
   "id": "44afd8de",
   "metadata": {},
   "outputs": [
    {
     "data": {
      "text/plain": [
       "'https://data.commoncrawl.org/commoncrawl/cc-index/table/cc-main/warc/crawl=CC-MAIN-2024-42/subset=warc/*.parquet'"
      ]
     },
     "execution_count": 6,
     "metadata": {},
     "output_type": "execute_result"
    }
   ],
   "source": [
    "CRAWL_SET = \"CC-MAIN-2024-42\"\n",
    "CC_URL_S3_BASE=\"s3://\"\n",
    "CC_URL_HTTP_BASE=\"https://data.commoncrawl.org/\"\n",
    "CC_INDEX_URL = f\"{CC_URL_HTTP_BASE}commoncrawl/cc-index/table/cc-main/warc/crawl={CRAWL_SET}/subset=warc/*.parquet\"\n",
    "CC_INDEX_S3_URL = f\"{CC_URL_S3_BASE}commoncrawl/cc-index/table/cc-main/warc/crawl={CRAWL_SET}/subset=warc/*.parquet\"\n",
    "CC_INDEX_S3_BASE_URL = f\"{CC_URL_S3_BASE}commoncrawl/cc-index/table/cc-main/warc/crawl={CRAWL_SET}/subset=warc/\"\n",
    "CC_INDEX_URL"
   ]
  },
  {
   "cell_type": "code",
   "execution_count": 7,
   "id": "eebb2f60",
   "metadata": {},
   "outputs": [
    {
     "data": {
      "text/plain": [
       "'s3://commoncrawl/cc-index/table/cc-main/warc/crawl=CC-MAIN-2024-42/subset=warc/*.parquet'"
      ]
     },
     "execution_count": 7,
     "metadata": {},
     "output_type": "execute_result"
    }
   ],
   "source": [
    "CC_INDEX_S3_URL"
   ]
  },
  {
   "cell_type": "code",
   "execution_count": 8,
   "id": "6ab6bf0c",
   "metadata": {},
   "outputs": [
    {
     "name": "stdout",
     "output_type": "stream",
     "text": [
      "s3://commoncrawl/cc-index/table/cc-main/warc/crawl=CC-MAIN-2024-42/subset=warc/\n"
     ]
    }
   ],
   "source": [
    "print(f\"{CC_INDEX_S3_BASE_URL}\")"
   ]
  },
  {
   "cell_type": "code",
   "execution_count": 9,
   "id": "27cbef68",
   "metadata": {},
   "outputs": [
    {
     "data": {
      "text/plain": [
       "<duckdb.duckdb.DuckDBPyConnection at 0xffff9c025a70>"
      ]
     },
     "execution_count": 9,
     "metadata": {},
     "output_type": "execute_result"
    }
   ],
   "source": [
    "# Configure S3 settings for DuckDB\n",
    "con.execute(\"\"\"\n",
    "    CALL load_aws_credentials();\n",
    "\"\"\")"
   ]
  },
  {
   "cell_type": "code",
   "execution_count": 10,
   "id": "4af3f192",
   "metadata": {},
   "outputs": [
    {
     "data": {
      "text/plain": [
       "<duckdb.duckdb.DuckDBPyConnection at 0xffff9c025a70>"
      ]
     },
     "execution_count": 10,
     "metadata": {},
     "output_type": "execute_result"
    }
   ],
   "source": [
    "con.execute(\"\"\"\n",
    "  DROP SECRET IF EXISTS secret3;\n",
    "  CREATE SECRET secret3 (\n",
    "    TYPE S3,\n",
    "    PROVIDER CREDENTIAL_CHAIN,\n",
    "    CHAIN 'sso'\n",
    "  );\n",
    "            \"\"\")"
   ]
  },
  {
   "cell_type": "markdown",
   "id": "69b2cc2b-2a02-4f37-a5f4-1cb0db7afea6",
   "metadata": {},
   "source": [
    "--con.execute(f\"\"\"\n",
    "  CREATE TABLE IF NOT EXISTS t1 as \n",
    "  SELECT *\n",
    "    FROM read_parquet('{CC_INDEX_S3_URL}');\n",
    "  DESCRIBE t1;\n",
    "\"\"\").df()"
   ]
  },
  {
   "cell_type": "code",
   "execution_count": 11,
   "id": "254e9e10-9bd0-46fe-a18f-992b9298004e",
   "metadata": {},
   "outputs": [
    {
     "name": "stdout",
     "output_type": "stream",
     "text": [
      "LICENSE\t\t examples  jupyter-server  requirements.txt   warc-rs\n",
      "cc_index.duckdb  fixed-ip  myenv\t   terraform.tfstate\n",
      "cdx.db\t\t hello.db  pipeline.ipynb  testdb\n"
     ]
    }
   ],
   "source": [
    "!ls"
   ]
  },
  {
   "cell_type": "code",
   "execution_count": 12,
   "id": "08f6125a-c170-4658-9003-bb0afe5491ee",
   "metadata": {},
   "outputs": [
    {
     "data": {
      "text/html": [
       "<div>\n",
       "<style scoped>\n",
       "    .dataframe tbody tr th:only-of-type {\n",
       "        vertical-align: middle;\n",
       "    }\n",
       "\n",
       "    .dataframe tbody tr th {\n",
       "        vertical-align: top;\n",
       "    }\n",
       "\n",
       "    .dataframe thead th {\n",
       "        text-align: right;\n",
       "    }\n",
       "</style>\n",
       "<table border=\"1\" class=\"dataframe\">\n",
       "  <thead>\n",
       "    <tr style=\"text-align: right;\">\n",
       "      <th></th>\n",
       "      <th>count_star()</th>\n",
       "    </tr>\n",
       "  </thead>\n",
       "  <tbody>\n",
       "    <tr>\n",
       "      <th>0</th>\n",
       "      <td>2495190754</td>\n",
       "    </tr>\n",
       "  </tbody>\n",
       "</table>\n",
       "</div>"
      ],
      "text/plain": [
       "   count_star()\n",
       "0    2495190754"
      ]
     },
     "execution_count": 12,
     "metadata": {},
     "output_type": "execute_result"
    }
   ],
   "source": [
    "con.execute('select count(*) from t1').df()"
   ]
  },
  {
   "cell_type": "code",
   "execution_count": 13,
   "id": "6efad12f-868f-4b0c-a580-53f0bd7655a4",
   "metadata": {},
   "outputs": [
    {
     "data": {
      "text/html": [
       "<div>\n",
       "<style scoped>\n",
       "    .dataframe tbody tr th:only-of-type {\n",
       "        vertical-align: middle;\n",
       "    }\n",
       "\n",
       "    .dataframe tbody tr th {\n",
       "        vertical-align: top;\n",
       "    }\n",
       "\n",
       "    .dataframe thead th {\n",
       "        text-align: right;\n",
       "    }\n",
       "</style>\n",
       "<table border=\"1\" class=\"dataframe\">\n",
       "  <thead>\n",
       "    <tr style=\"text-align: right;\">\n",
       "      <th></th>\n",
       "      <th>column_name</th>\n",
       "      <th>column_type</th>\n",
       "      <th>null</th>\n",
       "      <th>key</th>\n",
       "      <th>default</th>\n",
       "      <th>extra</th>\n",
       "    </tr>\n",
       "  </thead>\n",
       "  <tbody>\n",
       "    <tr>\n",
       "      <th>0</th>\n",
       "      <td>url_surtkey</td>\n",
       "      <td>VARCHAR</td>\n",
       "      <td>YES</td>\n",
       "      <td>None</td>\n",
       "      <td>None</td>\n",
       "      <td>None</td>\n",
       "    </tr>\n",
       "    <tr>\n",
       "      <th>1</th>\n",
       "      <td>url</td>\n",
       "      <td>VARCHAR</td>\n",
       "      <td>YES</td>\n",
       "      <td>None</td>\n",
       "      <td>None</td>\n",
       "      <td>None</td>\n",
       "    </tr>\n",
       "    <tr>\n",
       "      <th>2</th>\n",
       "      <td>url_host_name</td>\n",
       "      <td>VARCHAR</td>\n",
       "      <td>YES</td>\n",
       "      <td>None</td>\n",
       "      <td>None</td>\n",
       "      <td>None</td>\n",
       "    </tr>\n",
       "    <tr>\n",
       "      <th>3</th>\n",
       "      <td>url_host_tld</td>\n",
       "      <td>VARCHAR</td>\n",
       "      <td>YES</td>\n",
       "      <td>None</td>\n",
       "      <td>None</td>\n",
       "      <td>None</td>\n",
       "    </tr>\n",
       "    <tr>\n",
       "      <th>4</th>\n",
       "      <td>url_host_2nd_last_part</td>\n",
       "      <td>VARCHAR</td>\n",
       "      <td>YES</td>\n",
       "      <td>None</td>\n",
       "      <td>None</td>\n",
       "      <td>None</td>\n",
       "    </tr>\n",
       "    <tr>\n",
       "      <th>5</th>\n",
       "      <td>url_host_3rd_last_part</td>\n",
       "      <td>VARCHAR</td>\n",
       "      <td>YES</td>\n",
       "      <td>None</td>\n",
       "      <td>None</td>\n",
       "      <td>None</td>\n",
       "    </tr>\n",
       "    <tr>\n",
       "      <th>6</th>\n",
       "      <td>url_host_4th_last_part</td>\n",
       "      <td>VARCHAR</td>\n",
       "      <td>YES</td>\n",
       "      <td>None</td>\n",
       "      <td>None</td>\n",
       "      <td>None</td>\n",
       "    </tr>\n",
       "    <tr>\n",
       "      <th>7</th>\n",
       "      <td>url_host_5th_last_part</td>\n",
       "      <td>VARCHAR</td>\n",
       "      <td>YES</td>\n",
       "      <td>None</td>\n",
       "      <td>None</td>\n",
       "      <td>None</td>\n",
       "    </tr>\n",
       "    <tr>\n",
       "      <th>8</th>\n",
       "      <td>url_host_registry_suffix</td>\n",
       "      <td>VARCHAR</td>\n",
       "      <td>YES</td>\n",
       "      <td>None</td>\n",
       "      <td>None</td>\n",
       "      <td>None</td>\n",
       "    </tr>\n",
       "    <tr>\n",
       "      <th>9</th>\n",
       "      <td>url_host_registered_domain</td>\n",
       "      <td>VARCHAR</td>\n",
       "      <td>YES</td>\n",
       "      <td>None</td>\n",
       "      <td>None</td>\n",
       "      <td>None</td>\n",
       "    </tr>\n",
       "    <tr>\n",
       "      <th>10</th>\n",
       "      <td>url_host_private_suffix</td>\n",
       "      <td>VARCHAR</td>\n",
       "      <td>YES</td>\n",
       "      <td>None</td>\n",
       "      <td>None</td>\n",
       "      <td>None</td>\n",
       "    </tr>\n",
       "    <tr>\n",
       "      <th>11</th>\n",
       "      <td>url_host_private_domain</td>\n",
       "      <td>VARCHAR</td>\n",
       "      <td>YES</td>\n",
       "      <td>None</td>\n",
       "      <td>None</td>\n",
       "      <td>None</td>\n",
       "    </tr>\n",
       "    <tr>\n",
       "      <th>12</th>\n",
       "      <td>url_host_name_reversed</td>\n",
       "      <td>VARCHAR</td>\n",
       "      <td>YES</td>\n",
       "      <td>None</td>\n",
       "      <td>None</td>\n",
       "      <td>None</td>\n",
       "    </tr>\n",
       "    <tr>\n",
       "      <th>13</th>\n",
       "      <td>url_protocol</td>\n",
       "      <td>VARCHAR</td>\n",
       "      <td>YES</td>\n",
       "      <td>None</td>\n",
       "      <td>None</td>\n",
       "      <td>None</td>\n",
       "    </tr>\n",
       "    <tr>\n",
       "      <th>14</th>\n",
       "      <td>url_port</td>\n",
       "      <td>INTEGER</td>\n",
       "      <td>YES</td>\n",
       "      <td>None</td>\n",
       "      <td>None</td>\n",
       "      <td>None</td>\n",
       "    </tr>\n",
       "    <tr>\n",
       "      <th>15</th>\n",
       "      <td>url_path</td>\n",
       "      <td>VARCHAR</td>\n",
       "      <td>YES</td>\n",
       "      <td>None</td>\n",
       "      <td>None</td>\n",
       "      <td>None</td>\n",
       "    </tr>\n",
       "    <tr>\n",
       "      <th>16</th>\n",
       "      <td>url_query</td>\n",
       "      <td>VARCHAR</td>\n",
       "      <td>YES</td>\n",
       "      <td>None</td>\n",
       "      <td>None</td>\n",
       "      <td>None</td>\n",
       "    </tr>\n",
       "    <tr>\n",
       "      <th>17</th>\n",
       "      <td>fetch_time</td>\n",
       "      <td>TIMESTAMP WITH TIME ZONE</td>\n",
       "      <td>YES</td>\n",
       "      <td>None</td>\n",
       "      <td>None</td>\n",
       "      <td>None</td>\n",
       "    </tr>\n",
       "    <tr>\n",
       "      <th>18</th>\n",
       "      <td>fetch_status</td>\n",
       "      <td>SMALLINT</td>\n",
       "      <td>YES</td>\n",
       "      <td>None</td>\n",
       "      <td>None</td>\n",
       "      <td>None</td>\n",
       "    </tr>\n",
       "    <tr>\n",
       "      <th>19</th>\n",
       "      <td>fetch_redirect</td>\n",
       "      <td>VARCHAR</td>\n",
       "      <td>YES</td>\n",
       "      <td>None</td>\n",
       "      <td>None</td>\n",
       "      <td>None</td>\n",
       "    </tr>\n",
       "    <tr>\n",
       "      <th>20</th>\n",
       "      <td>content_digest</td>\n",
       "      <td>VARCHAR</td>\n",
       "      <td>YES</td>\n",
       "      <td>None</td>\n",
       "      <td>None</td>\n",
       "      <td>None</td>\n",
       "    </tr>\n",
       "    <tr>\n",
       "      <th>21</th>\n",
       "      <td>content_mime_type</td>\n",
       "      <td>VARCHAR</td>\n",
       "      <td>YES</td>\n",
       "      <td>None</td>\n",
       "      <td>None</td>\n",
       "      <td>None</td>\n",
       "    </tr>\n",
       "    <tr>\n",
       "      <th>22</th>\n",
       "      <td>content_mime_detected</td>\n",
       "      <td>VARCHAR</td>\n",
       "      <td>YES</td>\n",
       "      <td>None</td>\n",
       "      <td>None</td>\n",
       "      <td>None</td>\n",
       "    </tr>\n",
       "    <tr>\n",
       "      <th>23</th>\n",
       "      <td>content_charset</td>\n",
       "      <td>VARCHAR</td>\n",
       "      <td>YES</td>\n",
       "      <td>None</td>\n",
       "      <td>None</td>\n",
       "      <td>None</td>\n",
       "    </tr>\n",
       "    <tr>\n",
       "      <th>24</th>\n",
       "      <td>content_languages</td>\n",
       "      <td>VARCHAR</td>\n",
       "      <td>YES</td>\n",
       "      <td>None</td>\n",
       "      <td>None</td>\n",
       "      <td>None</td>\n",
       "    </tr>\n",
       "    <tr>\n",
       "      <th>25</th>\n",
       "      <td>content_truncated</td>\n",
       "      <td>VARCHAR</td>\n",
       "      <td>YES</td>\n",
       "      <td>None</td>\n",
       "      <td>None</td>\n",
       "      <td>None</td>\n",
       "    </tr>\n",
       "    <tr>\n",
       "      <th>26</th>\n",
       "      <td>warc_filename</td>\n",
       "      <td>VARCHAR</td>\n",
       "      <td>YES</td>\n",
       "      <td>None</td>\n",
       "      <td>None</td>\n",
       "      <td>None</td>\n",
       "    </tr>\n",
       "    <tr>\n",
       "      <th>27</th>\n",
       "      <td>warc_record_offset</td>\n",
       "      <td>INTEGER</td>\n",
       "      <td>YES</td>\n",
       "      <td>None</td>\n",
       "      <td>None</td>\n",
       "      <td>None</td>\n",
       "    </tr>\n",
       "    <tr>\n",
       "      <th>28</th>\n",
       "      <td>warc_record_length</td>\n",
       "      <td>INTEGER</td>\n",
       "      <td>YES</td>\n",
       "      <td>None</td>\n",
       "      <td>None</td>\n",
       "      <td>None</td>\n",
       "    </tr>\n",
       "    <tr>\n",
       "      <th>29</th>\n",
       "      <td>warc_segment</td>\n",
       "      <td>VARCHAR</td>\n",
       "      <td>YES</td>\n",
       "      <td>None</td>\n",
       "      <td>None</td>\n",
       "      <td>None</td>\n",
       "    </tr>\n",
       "    <tr>\n",
       "      <th>30</th>\n",
       "      <td>crawl</td>\n",
       "      <td>VARCHAR</td>\n",
       "      <td>YES</td>\n",
       "      <td>None</td>\n",
       "      <td>None</td>\n",
       "      <td>None</td>\n",
       "    </tr>\n",
       "    <tr>\n",
       "      <th>31</th>\n",
       "      <td>subset</td>\n",
       "      <td>VARCHAR</td>\n",
       "      <td>YES</td>\n",
       "      <td>None</td>\n",
       "      <td>None</td>\n",
       "      <td>None</td>\n",
       "    </tr>\n",
       "  </tbody>\n",
       "</table>\n",
       "</div>"
      ],
      "text/plain": [
       "                   column_name               column_type null   key default  \\\n",
       "0                  url_surtkey                   VARCHAR  YES  None    None   \n",
       "1                          url                   VARCHAR  YES  None    None   \n",
       "2                url_host_name                   VARCHAR  YES  None    None   \n",
       "3                 url_host_tld                   VARCHAR  YES  None    None   \n",
       "4       url_host_2nd_last_part                   VARCHAR  YES  None    None   \n",
       "5       url_host_3rd_last_part                   VARCHAR  YES  None    None   \n",
       "6       url_host_4th_last_part                   VARCHAR  YES  None    None   \n",
       "7       url_host_5th_last_part                   VARCHAR  YES  None    None   \n",
       "8     url_host_registry_suffix                   VARCHAR  YES  None    None   \n",
       "9   url_host_registered_domain                   VARCHAR  YES  None    None   \n",
       "10     url_host_private_suffix                   VARCHAR  YES  None    None   \n",
       "11     url_host_private_domain                   VARCHAR  YES  None    None   \n",
       "12      url_host_name_reversed                   VARCHAR  YES  None    None   \n",
       "13                url_protocol                   VARCHAR  YES  None    None   \n",
       "14                    url_port                   INTEGER  YES  None    None   \n",
       "15                    url_path                   VARCHAR  YES  None    None   \n",
       "16                   url_query                   VARCHAR  YES  None    None   \n",
       "17                  fetch_time  TIMESTAMP WITH TIME ZONE  YES  None    None   \n",
       "18                fetch_status                  SMALLINT  YES  None    None   \n",
       "19              fetch_redirect                   VARCHAR  YES  None    None   \n",
       "20              content_digest                   VARCHAR  YES  None    None   \n",
       "21           content_mime_type                   VARCHAR  YES  None    None   \n",
       "22       content_mime_detected                   VARCHAR  YES  None    None   \n",
       "23             content_charset                   VARCHAR  YES  None    None   \n",
       "24           content_languages                   VARCHAR  YES  None    None   \n",
       "25           content_truncated                   VARCHAR  YES  None    None   \n",
       "26               warc_filename                   VARCHAR  YES  None    None   \n",
       "27          warc_record_offset                   INTEGER  YES  None    None   \n",
       "28          warc_record_length                   INTEGER  YES  None    None   \n",
       "29                warc_segment                   VARCHAR  YES  None    None   \n",
       "30                       crawl                   VARCHAR  YES  None    None   \n",
       "31                      subset                   VARCHAR  YES  None    None   \n",
       "\n",
       "   extra  \n",
       "0   None  \n",
       "1   None  \n",
       "2   None  \n",
       "3   None  \n",
       "4   None  \n",
       "5   None  \n",
       "6   None  \n",
       "7   None  \n",
       "8   None  \n",
       "9   None  \n",
       "10  None  \n",
       "11  None  \n",
       "12  None  \n",
       "13  None  \n",
       "14  None  \n",
       "15  None  \n",
       "16  None  \n",
       "17  None  \n",
       "18  None  \n",
       "19  None  \n",
       "20  None  \n",
       "21  None  \n",
       "22  None  \n",
       "23  None  \n",
       "24  None  \n",
       "25  None  \n",
       "26  None  \n",
       "27  None  \n",
       "28  None  \n",
       "29  None  \n",
       "30  None  \n",
       "31  None  "
      ]
     },
     "execution_count": 13,
     "metadata": {},
     "output_type": "execute_result"
    }
   ],
   "source": [
    "con.execute('describe t1').df()"
   ]
  },
  {
   "cell_type": "code",
   "execution_count": 14,
   "id": "f07d9e74-7701-4539-95e5-d02d1051f563",
   "metadata": {},
   "outputs": [
    {
     "data": {
      "text/html": [
       "<div>\n",
       "<style scoped>\n",
       "    .dataframe tbody tr th:only-of-type {\n",
       "        vertical-align: middle;\n",
       "    }\n",
       "\n",
       "    .dataframe tbody tr th {\n",
       "        vertical-align: top;\n",
       "    }\n",
       "\n",
       "    .dataframe thead th {\n",
       "        text-align: right;\n",
       "    }\n",
       "</style>\n",
       "<table border=\"1\" class=\"dataframe\">\n",
       "  <thead>\n",
       "    <tr style=\"text-align: right;\">\n",
       "      <th></th>\n",
       "      <th>0</th>\n",
       "      <th>1</th>\n",
       "      <th>2</th>\n",
       "    </tr>\n",
       "  </thead>\n",
       "  <tbody>\n",
       "    <tr>\n",
       "      <th>url_surtkey</th>\n",
       "      <td>com,blogspot,blogdocappacete)/2012/11/a-breve-...</td>\n",
       "      <td>com,blogspot,blogdocappacete)/2012/11/burguesi...</td>\n",
       "      <td>com,blogspot,blogdocappacete)/2012/11/deputado...</td>\n",
       "    </tr>\n",
       "    <tr>\n",
       "      <th>url</th>\n",
       "      <td>https://blogdocappacete.blogspot.com/2012/11/a...</td>\n",
       "      <td>https://blogdocappacete.blogspot.com/2012/11/b...</td>\n",
       "      <td>https://blogdocappacete.blogspot.com/2012/11/d...</td>\n",
       "    </tr>\n",
       "    <tr>\n",
       "      <th>url_host_name</th>\n",
       "      <td>blogdocappacete.blogspot.com</td>\n",
       "      <td>blogdocappacete.blogspot.com</td>\n",
       "      <td>blogdocappacete.blogspot.com</td>\n",
       "    </tr>\n",
       "    <tr>\n",
       "      <th>url_host_tld</th>\n",
       "      <td>com</td>\n",
       "      <td>com</td>\n",
       "      <td>com</td>\n",
       "    </tr>\n",
       "    <tr>\n",
       "      <th>url_host_2nd_last_part</th>\n",
       "      <td>blogspot</td>\n",
       "      <td>blogspot</td>\n",
       "      <td>blogspot</td>\n",
       "    </tr>\n",
       "    <tr>\n",
       "      <th>url_host_3rd_last_part</th>\n",
       "      <td>blogdocappacete</td>\n",
       "      <td>blogdocappacete</td>\n",
       "      <td>blogdocappacete</td>\n",
       "    </tr>\n",
       "    <tr>\n",
       "      <th>url_host_4th_last_part</th>\n",
       "      <td>None</td>\n",
       "      <td>None</td>\n",
       "      <td>None</td>\n",
       "    </tr>\n",
       "    <tr>\n",
       "      <th>url_host_5th_last_part</th>\n",
       "      <td>None</td>\n",
       "      <td>None</td>\n",
       "      <td>None</td>\n",
       "    </tr>\n",
       "    <tr>\n",
       "      <th>url_host_registry_suffix</th>\n",
       "      <td>com</td>\n",
       "      <td>com</td>\n",
       "      <td>com</td>\n",
       "    </tr>\n",
       "    <tr>\n",
       "      <th>url_host_registered_domain</th>\n",
       "      <td>blogspot.com</td>\n",
       "      <td>blogspot.com</td>\n",
       "      <td>blogspot.com</td>\n",
       "    </tr>\n",
       "    <tr>\n",
       "      <th>url_host_private_suffix</th>\n",
       "      <td>blogspot.com</td>\n",
       "      <td>blogspot.com</td>\n",
       "      <td>blogspot.com</td>\n",
       "    </tr>\n",
       "    <tr>\n",
       "      <th>url_host_private_domain</th>\n",
       "      <td>blogdocappacete.blogspot.com</td>\n",
       "      <td>blogdocappacete.blogspot.com</td>\n",
       "      <td>blogdocappacete.blogspot.com</td>\n",
       "    </tr>\n",
       "    <tr>\n",
       "      <th>url_host_name_reversed</th>\n",
       "      <td>com.blogspot.blogdocappacete</td>\n",
       "      <td>com.blogspot.blogdocappacete</td>\n",
       "      <td>com.blogspot.blogdocappacete</td>\n",
       "    </tr>\n",
       "    <tr>\n",
       "      <th>url_protocol</th>\n",
       "      <td>https</td>\n",
       "      <td>https</td>\n",
       "      <td>https</td>\n",
       "    </tr>\n",
       "    <tr>\n",
       "      <th>url_port</th>\n",
       "      <td>NaN</td>\n",
       "      <td>NaN</td>\n",
       "      <td>NaN</td>\n",
       "    </tr>\n",
       "    <tr>\n",
       "      <th>url_path</th>\n",
       "      <td>/2012/11/a-breve-trajetoria-de-sabotage-o.html</td>\n",
       "      <td>/2012/11/burguesia-demotukkkanos-nao-quer-que-...</td>\n",
       "      <td>/2012/11/deputado-hungaro-de-extrema-direita.html</td>\n",
       "    </tr>\n",
       "    <tr>\n",
       "      <th>url_query</th>\n",
       "      <td>None</td>\n",
       "      <td>None</td>\n",
       "      <td>None</td>\n",
       "    </tr>\n",
       "    <tr>\n",
       "      <th>fetch_time</th>\n",
       "      <td>2024-10-15 21:10:51+00:00</td>\n",
       "      <td>2024-10-15 05:50:13+00:00</td>\n",
       "      <td>2024-10-13 09:40:03+00:00</td>\n",
       "    </tr>\n",
       "    <tr>\n",
       "      <th>fetch_status</th>\n",
       "      <td>200</td>\n",
       "      <td>200</td>\n",
       "      <td>200</td>\n",
       "    </tr>\n",
       "    <tr>\n",
       "      <th>fetch_redirect</th>\n",
       "      <td>None</td>\n",
       "      <td>None</td>\n",
       "      <td>None</td>\n",
       "    </tr>\n",
       "    <tr>\n",
       "      <th>content_digest</th>\n",
       "      <td>GZZIZ6YBVM6AWXN3V4H276VXWDWBR33K</td>\n",
       "      <td>RGOIBCY52CVVNQ4RHVVK2QLKI5M5T2P7</td>\n",
       "      <td>5OFLCMQM6BSO3JM62TCPYIMPFD56PYON</td>\n",
       "    </tr>\n",
       "    <tr>\n",
       "      <th>content_mime_type</th>\n",
       "      <td>text/html</td>\n",
       "      <td>text/html</td>\n",
       "      <td>text/html</td>\n",
       "    </tr>\n",
       "    <tr>\n",
       "      <th>content_mime_detected</th>\n",
       "      <td>text/html</td>\n",
       "      <td>text/html</td>\n",
       "      <td>text/html</td>\n",
       "    </tr>\n",
       "    <tr>\n",
       "      <th>content_charset</th>\n",
       "      <td>UTF-8</td>\n",
       "      <td>UTF-8</td>\n",
       "      <td>UTF-8</td>\n",
       "    </tr>\n",
       "    <tr>\n",
       "      <th>content_languages</th>\n",
       "      <td>por</td>\n",
       "      <td>por</td>\n",
       "      <td>por</td>\n",
       "    </tr>\n",
       "    <tr>\n",
       "      <th>content_truncated</th>\n",
       "      <td>None</td>\n",
       "      <td>None</td>\n",
       "      <td>None</td>\n",
       "    </tr>\n",
       "    <tr>\n",
       "      <th>warc_filename</th>\n",
       "      <td>crawl-data/CC-MAIN-2024-42/segments/1727944591...</td>\n",
       "      <td>crawl-data/CC-MAIN-2024-42/segments/1727944255...</td>\n",
       "      <td>crawl-data/CC-MAIN-2024-42/segments/1727944255...</td>\n",
       "    </tr>\n",
       "    <tr>\n",
       "      <th>warc_record_offset</th>\n",
       "      <td>114491262</td>\n",
       "      <td>114095127</td>\n",
       "      <td>111972223</td>\n",
       "    </tr>\n",
       "    <tr>\n",
       "      <th>warc_record_length</th>\n",
       "      <td>16959</td>\n",
       "      <td>22625</td>\n",
       "      <td>14363</td>\n",
       "    </tr>\n",
       "    <tr>\n",
       "      <th>warc_segment</th>\n",
       "      <td>1727944591543.93</td>\n",
       "      <td>1727944255580.90</td>\n",
       "      <td>1727944255196.91</td>\n",
       "    </tr>\n",
       "    <tr>\n",
       "      <th>crawl</th>\n",
       "      <td>CC-MAIN-2024-42</td>\n",
       "      <td>CC-MAIN-2024-42</td>\n",
       "      <td>CC-MAIN-2024-42</td>\n",
       "    </tr>\n",
       "    <tr>\n",
       "      <th>subset</th>\n",
       "      <td>warc</td>\n",
       "      <td>warc</td>\n",
       "      <td>warc</td>\n",
       "    </tr>\n",
       "  </tbody>\n",
       "</table>\n",
       "</div>"
      ],
      "text/plain": [
       "                                                                            0  \\\n",
       "url_surtkey                 com,blogspot,blogdocappacete)/2012/11/a-breve-...   \n",
       "url                         https://blogdocappacete.blogspot.com/2012/11/a...   \n",
       "url_host_name                                    blogdocappacete.blogspot.com   \n",
       "url_host_tld                                                              com   \n",
       "url_host_2nd_last_part                                               blogspot   \n",
       "url_host_3rd_last_part                                        blogdocappacete   \n",
       "url_host_4th_last_part                                                   None   \n",
       "url_host_5th_last_part                                                   None   \n",
       "url_host_registry_suffix                                                  com   \n",
       "url_host_registered_domain                                       blogspot.com   \n",
       "url_host_private_suffix                                          blogspot.com   \n",
       "url_host_private_domain                          blogdocappacete.blogspot.com   \n",
       "url_host_name_reversed                           com.blogspot.blogdocappacete   \n",
       "url_protocol                                                            https   \n",
       "url_port                                                                  NaN   \n",
       "url_path                       /2012/11/a-breve-trajetoria-de-sabotage-o.html   \n",
       "url_query                                                                None   \n",
       "fetch_time                                          2024-10-15 21:10:51+00:00   \n",
       "fetch_status                                                              200   \n",
       "fetch_redirect                                                           None   \n",
       "content_digest                               GZZIZ6YBVM6AWXN3V4H276VXWDWBR33K   \n",
       "content_mime_type                                                   text/html   \n",
       "content_mime_detected                                               text/html   \n",
       "content_charset                                                         UTF-8   \n",
       "content_languages                                                         por   \n",
       "content_truncated                                                        None   \n",
       "warc_filename               crawl-data/CC-MAIN-2024-42/segments/1727944591...   \n",
       "warc_record_offset                                                  114491262   \n",
       "warc_record_length                                                      16959   \n",
       "warc_segment                                                 1727944591543.93   \n",
       "crawl                                                         CC-MAIN-2024-42   \n",
       "subset                                                                   warc   \n",
       "\n",
       "                                                                            1  \\\n",
       "url_surtkey                 com,blogspot,blogdocappacete)/2012/11/burguesi...   \n",
       "url                         https://blogdocappacete.blogspot.com/2012/11/b...   \n",
       "url_host_name                                    blogdocappacete.blogspot.com   \n",
       "url_host_tld                                                              com   \n",
       "url_host_2nd_last_part                                               blogspot   \n",
       "url_host_3rd_last_part                                        blogdocappacete   \n",
       "url_host_4th_last_part                                                   None   \n",
       "url_host_5th_last_part                                                   None   \n",
       "url_host_registry_suffix                                                  com   \n",
       "url_host_registered_domain                                       blogspot.com   \n",
       "url_host_private_suffix                                          blogspot.com   \n",
       "url_host_private_domain                          blogdocappacete.blogspot.com   \n",
       "url_host_name_reversed                           com.blogspot.blogdocappacete   \n",
       "url_protocol                                                            https   \n",
       "url_port                                                                  NaN   \n",
       "url_path                    /2012/11/burguesia-demotukkkanos-nao-quer-que-...   \n",
       "url_query                                                                None   \n",
       "fetch_time                                          2024-10-15 05:50:13+00:00   \n",
       "fetch_status                                                              200   \n",
       "fetch_redirect                                                           None   \n",
       "content_digest                               RGOIBCY52CVVNQ4RHVVK2QLKI5M5T2P7   \n",
       "content_mime_type                                                   text/html   \n",
       "content_mime_detected                                               text/html   \n",
       "content_charset                                                         UTF-8   \n",
       "content_languages                                                         por   \n",
       "content_truncated                                                        None   \n",
       "warc_filename               crawl-data/CC-MAIN-2024-42/segments/1727944255...   \n",
       "warc_record_offset                                                  114095127   \n",
       "warc_record_length                                                      22625   \n",
       "warc_segment                                                 1727944255580.90   \n",
       "crawl                                                         CC-MAIN-2024-42   \n",
       "subset                                                                   warc   \n",
       "\n",
       "                                                                            2  \n",
       "url_surtkey                 com,blogspot,blogdocappacete)/2012/11/deputado...  \n",
       "url                         https://blogdocappacete.blogspot.com/2012/11/d...  \n",
       "url_host_name                                    blogdocappacete.blogspot.com  \n",
       "url_host_tld                                                              com  \n",
       "url_host_2nd_last_part                                               blogspot  \n",
       "url_host_3rd_last_part                                        blogdocappacete  \n",
       "url_host_4th_last_part                                                   None  \n",
       "url_host_5th_last_part                                                   None  \n",
       "url_host_registry_suffix                                                  com  \n",
       "url_host_registered_domain                                       blogspot.com  \n",
       "url_host_private_suffix                                          blogspot.com  \n",
       "url_host_private_domain                          blogdocappacete.blogspot.com  \n",
       "url_host_name_reversed                           com.blogspot.blogdocappacete  \n",
       "url_protocol                                                            https  \n",
       "url_port                                                                  NaN  \n",
       "url_path                    /2012/11/deputado-hungaro-de-extrema-direita.html  \n",
       "url_query                                                                None  \n",
       "fetch_time                                          2024-10-13 09:40:03+00:00  \n",
       "fetch_status                                                              200  \n",
       "fetch_redirect                                                           None  \n",
       "content_digest                               5OFLCMQM6BSO3JM62TCPYIMPFD56PYON  \n",
       "content_mime_type                                                   text/html  \n",
       "content_mime_detected                                               text/html  \n",
       "content_charset                                                         UTF-8  \n",
       "content_languages                                                         por  \n",
       "content_truncated                                                        None  \n",
       "warc_filename               crawl-data/CC-MAIN-2024-42/segments/1727944255...  \n",
       "warc_record_offset                                                  111972223  \n",
       "warc_record_length                                                      14363  \n",
       "warc_segment                                                 1727944255196.91  \n",
       "crawl                                                         CC-MAIN-2024-42  \n",
       "subset                                                                   warc  "
      ]
     },
     "execution_count": 14,
     "metadata": {},
     "output_type": "execute_result"
    }
   ],
   "source": [
    "con.execute('select * from t1 limit 3').df().transpose() "
   ]
  },
  {
   "cell_type": "code",
   "execution_count": 15,
   "id": "6e9aa394-f1d0-4bb6-a4ce-ebd6ebd886d8",
   "metadata": {},
   "outputs": [
    {
     "data": {
      "application/vnd.jupyter.widget-view+json": {
       "model_id": "dc5db3bd0152449bb1b2034a4b5b45f1",
       "version_major": 2,
       "version_minor": 0
      },
      "text/plain": [
       "FloatProgress(value=0.0, layout=Layout(width='auto'), style=ProgressStyle(bar_color='black'))"
      ]
     },
     "metadata": {},
     "output_type": "display_data"
    },
    {
     "data": {
      "text/html": [
       "<div>\n",
       "<style scoped>\n",
       "    .dataframe tbody tr th:only-of-type {\n",
       "        vertical-align: middle;\n",
       "    }\n",
       "\n",
       "    .dataframe tbody tr th {\n",
       "        vertical-align: top;\n",
       "    }\n",
       "\n",
       "    .dataframe thead th {\n",
       "        text-align: right;\n",
       "    }\n",
       "</style>\n",
       "<table border=\"1\" class=\"dataframe\">\n",
       "  <thead>\n",
       "    <tr style=\"text-align: right;\">\n",
       "      <th></th>\n",
       "      <th>count(DISTINCT url_host_name)</th>\n",
       "    </tr>\n",
       "  </thead>\n",
       "  <tbody>\n",
       "    <tr>\n",
       "      <th>0</th>\n",
       "      <td>47550631</td>\n",
       "    </tr>\n",
       "  </tbody>\n",
       "</table>\n",
       "</div>"
      ],
      "text/plain": [
       "   count(DISTINCT url_host_name)\n",
       "0                       47550631"
      ]
     },
     "execution_count": 15,
     "metadata": {},
     "output_type": "execute_result"
    }
   ],
   "source": [
    "con.execute('select count(distinct  url_host_name) from t1').df()"
   ]
  },
  {
   "cell_type": "code",
   "execution_count": 17,
   "id": "2a9e7960-285d-4124-bffe-00f10dffc612",
   "metadata": {},
   "outputs": [
    {
     "data": {
      "application/vnd.jupyter.widget-view+json": {
       "model_id": "45f1c14756984f26a0b6dd3177c46fa2",
       "version_major": 2,
       "version_minor": 0
      },
      "text/plain": [
       "FloatProgress(value=0.0, layout=Layout(width='auto'), style=ProgressStyle(bar_color='black'))"
      ]
     },
     "metadata": {},
     "output_type": "display_data"
    },
    {
     "data": {
      "text/html": [
       "<div>\n",
       "<style scoped>\n",
       "    .dataframe tbody tr th:only-of-type {\n",
       "        vertical-align: middle;\n",
       "    }\n",
       "\n",
       "    .dataframe tbody tr th {\n",
       "        vertical-align: top;\n",
       "    }\n",
       "\n",
       "    .dataframe thead th {\n",
       "        text-align: right;\n",
       "    }\n",
       "</style>\n",
       "<table border=\"1\" class=\"dataframe\">\n",
       "  <thead>\n",
       "    <tr style=\"text-align: right;\">\n",
       "      <th></th>\n",
       "      <th>(count_star() / count(DISTINCT url_host_name))</th>\n",
       "    </tr>\n",
       "  </thead>\n",
       "  <tbody>\n",
       "    <tr>\n",
       "      <th>0</th>\n",
       "      <td>52.474398</td>\n",
       "    </tr>\n",
       "  </tbody>\n",
       "</table>\n",
       "</div>"
      ],
      "text/plain": [
       "   (count_star() / count(DISTINCT url_host_name))\n",
       "0                                       52.474398"
      ]
     },
     "execution_count": 17,
     "metadata": {},
     "output_type": "execute_result"
    }
   ],
   "source": [
    "#pages per host\n",
    "con.execute('select count(*)/count(distinct url_host_name) from t1').df()"
   ]
  },
  {
   "cell_type": "code",
   "execution_count": 19,
   "id": "868f2b13-bd79-49aa-b5cc-3402d910acb1",
   "metadata": {},
   "outputs": [
    {
     "data": {
      "application/vnd.jupyter.widget-view+json": {
       "model_id": "5276311406664782851050ab40e53087",
       "version_major": 2,
       "version_minor": 0
      },
      "text/plain": [
       "FloatProgress(value=0.0, layout=Layout(width='auto'), style=ProgressStyle(bar_color='black'))"
      ]
     },
     "metadata": {},
     "output_type": "display_data"
    },
    {
     "data": {
      "text/html": [
       "<div>\n",
       "<style scoped>\n",
       "    .dataframe tbody tr th:only-of-type {\n",
       "        vertical-align: middle;\n",
       "    }\n",
       "\n",
       "    .dataframe tbody tr th {\n",
       "        vertical-align: top;\n",
       "    }\n",
       "\n",
       "    .dataframe thead th {\n",
       "        text-align: right;\n",
       "    }\n",
       "</style>\n",
       "<table border=\"1\" class=\"dataframe\">\n",
       "  <thead>\n",
       "    <tr style=\"text-align: right;\">\n",
       "      <th></th>\n",
       "      <th>count(DISTINCT warc_filename)</th>\n",
       "    </tr>\n",
       "  </thead>\n",
       "  <tbody>\n",
       "    <tr>\n",
       "      <th>0</th>\n",
       "      <td>90000</td>\n",
       "    </tr>\n",
       "  </tbody>\n",
       "</table>\n",
       "</div>"
      ],
      "text/plain": [
       "   count(DISTINCT warc_filename)\n",
       "0                          90000"
      ]
     },
     "execution_count": 19,
     "metadata": {},
     "output_type": "execute_result"
    }
   ],
   "source": [
    "con.execute('select count(distinct warc_filename) from t1').df()"
   ]
  },
  {
   "cell_type": "code",
   "execution_count": 32,
   "id": "fe78c281-66f3-400e-86cb-1b5f283b0485",
   "metadata": {},
   "outputs": [
    {
     "data": {
      "application/vnd.jupyter.widget-view+json": {
       "model_id": "e009418d26094288af90826648442923",
       "version_major": 2,
       "version_minor": 0
      },
      "text/plain": [
       "FloatProgress(value=0.0, layout=Layout(width='auto'), style=ProgressStyle(bar_color='black'))"
      ]
     },
     "metadata": {},
     "output_type": "display_data"
    },
    {
     "data": {
      "text/plain": [
       "<duckdb.duckdb.DuckDBPyConnection at 0xffff9c025a70>"
      ]
     },
     "execution_count": 32,
     "metadata": {},
     "output_type": "execute_result"
    }
   ],
   "source": [
    "p1pct_db_path = 'cc_index_p1pct_sample.duckdb'\n",
    "p1pct_sample_fraction = \".1%\"\n",
    "con.execute(f\"ATTACH '{p1pct_db_path}' AS sample_db_p1pct\")\n",
    "con.execute(f\"\"\"\n",
    "    CREATE TABLE sample_db_p1pct.cc_index_sample AS\n",
    "    SELECT * FROM t1 USING SAMPLE {p1pct_sample_fraction};\n",
    "\"\"\")"
   ]
  },
  {
   "cell_type": "code",
   "execution_count": null,
   "id": "f72fb6eb-9df9-43ff-86e6-6d5ff96d505e",
   "metadata": {},
   "outputs": [],
   "source": []
  },
  {
   "cell_type": "code",
   "execution_count": null,
   "id": "247d9bca-68cb-4c45-b91a-44e4b325ada7",
   "metadata": {},
   "outputs": [],
   "source": []
  },
  {
   "cell_type": "code",
   "execution_count": 29,
   "id": "f954a784-f1b3-449e-85e4-e630c8611d8b",
   "metadata": {},
   "outputs": [
    {
     "name": "stdout",
     "output_type": "stream",
     "text": [
      "upload: ./cc_index_15pct_sample.duckdb to s3://crawler-works/cc_index_15pct_sample.duckdb\n"
     ]
    }
   ],
   "source": [
    "!aws s3 cp cc_index_15pct_sample.duckdb s3://crawler-works/"
   ]
  },
  {
   "cell_type": "code",
   "execution_count": null,
   "id": "7cc8bac1-ec7d-4ff2-b46f-bb4b1296b2fa",
   "metadata": {},
   "outputs": [],
   "source": []
  },
  {
   "cell_type": "code",
   "execution_count": 27,
   "id": "514238f4-af65-4fe9-9ee2-a59789aa8a09",
   "metadata": {},
   "outputs": [
    {
     "data": {
      "text/plain": [
       "<duckdb.duckdb.DuckDBPyConnection at 0xffff9c025a70>"
      ]
     },
     "execution_count": 27,
     "metadata": {},
     "output_type": "execute_result"
    }
   ],
   "source": [
    "second_db_path = 'cc_index_15pct_sample.duckdb'\n",
    "con.execute(f\"ATTACH '{second_db_path}' AS sample_db\")"
   ]
  },
  {
   "cell_type": "code",
   "execution_count": 30,
   "id": "bc78c616",
   "metadata": {},
   "outputs": [],
   "source": [
    "sample_fraction = \"15%\"\n",
    "con.execute(f\"\"\"\n",
    "    CREATE TABLE sample_db.cc_index_sample AS\n",
    "    SELECT * FROM t1 USING SAMPLE {sample_fraction};\n",
    "\"\"\")"
   ]
  },
  {
   "cell_type": "code",
   "execution_count": 39,
   "id": "6ed5be95-d212-4623-a96e-f38d9606a5f9",
   "metadata": {},
   "outputs": [
    {
     "data": {
      "text/html": [
       "<div>\n",
       "<style scoped>\n",
       "    .dataframe tbody tr th:only-of-type {\n",
       "        vertical-align: middle;\n",
       "    }\n",
       "\n",
       "    .dataframe tbody tr th {\n",
       "        vertical-align: top;\n",
       "    }\n",
       "\n",
       "    .dataframe thead th {\n",
       "        text-align: right;\n",
       "    }\n",
       "</style>\n",
       "<table border=\"1\" class=\"dataframe\">\n",
       "  <thead>\n",
       "    <tr style=\"text-align: right;\">\n",
       "      <th></th>\n",
       "      <th>count_star()</th>\n",
       "    </tr>\n",
       "  </thead>\n",
       "  <tbody>\n",
       "    <tr>\n",
       "      <th>0</th>\n",
       "      <td>375731115</td>\n",
       "    </tr>\n",
       "  </tbody>\n",
       "</table>\n",
       "</div>"
      ],
      "text/plain": [
       "   count_star()\n",
       "0     375731115"
      ]
     },
     "execution_count": 39,
     "metadata": {},
     "output_type": "execute_result"
    }
   ],
   "source": [
    "con.execute(f\"\"\"\n",
    "    select count(*) from sample_db.cc_index_sample\n",
    "\"\"\").df()"
   ]
  },
  {
   "cell_type": "code",
   "execution_count": 38,
   "id": "b1181647-28e0-4440-b830-a39488b9ac45",
   "metadata": {},
   "outputs": [
    {
     "data": {
      "text/html": [
       "<div>\n",
       "<style scoped>\n",
       "    .dataframe tbody tr th:only-of-type {\n",
       "        vertical-align: middle;\n",
       "    }\n",
       "\n",
       "    .dataframe tbody tr th {\n",
       "        vertical-align: top;\n",
       "    }\n",
       "\n",
       "    .dataframe thead th {\n",
       "        text-align: right;\n",
       "    }\n",
       "</style>\n",
       "<table border=\"1\" class=\"dataframe\">\n",
       "  <thead>\n",
       "    <tr style=\"text-align: right;\">\n",
       "      <th></th>\n",
       "      <th>count_star()</th>\n",
       "    </tr>\n",
       "  </thead>\n",
       "  <tbody>\n",
       "    <tr>\n",
       "      <th>0</th>\n",
       "      <td>2464920</td>\n",
       "    </tr>\n",
       "  </tbody>\n",
       "</table>\n",
       "</div>"
      ],
      "text/plain": [
       "   count_star()\n",
       "0       2464920"
      ]
     },
     "execution_count": 38,
     "metadata": {},
     "output_type": "execute_result"
    }
   ],
   "source": [
    "con.execute(f\"\"\"\n",
    "    select count(*) from sample_db_p1pct.cc_index_sample\n",
    "\"\"\").df()"
   ]
  },
  {
   "cell_type": "code",
   "execution_count": 40,
   "id": "f498ad67-0fc6-48cf-bbe4-9c6afdd5c0a2",
   "metadata": {},
   "outputs": [
    {
     "name": "stdout",
     "output_type": "stream",
     "text": [
      "upload: ./cc_index_p1pct_sample.duckdb to s3://crawler-works/cc_index_p1pct_sample.duckdb\n"
     ]
    }
   ],
   "source": [
    "!aws s3 cp {p1pct_db_path} s3://crawler-works/"
   ]
  },
  {
   "cell_type": "code",
   "execution_count": null,
   "id": "d751a86f-172e-45b5-b628-7bdf4adc90b5",
   "metadata": {},
   "outputs": [],
   "source": []
  },
  {
   "cell_type": "markdown",
   "id": "8f07fc7f",
   "metadata": {},
   "source": [
    "# IGNORE EVERYTHING BELOW THIS LINE"
   ]
  },
  {
   "cell_type": "code",
   "execution_count": null,
   "id": "c1972d9f",
   "metadata": {},
   "outputs": [],
   "source": [
    "!duckdb -c \"\\\n",
    "  create table meta as SELECT * FROM '../cc/cdx-00000.jsonl'; \\\n",
    "  create view status_vw as Select status, count(status) as cnt from meta group by status order by cnt desc; \\\n",
    "  select * from meta; \\\n",
    "  select * from status_vw; \\\n",
    "\" {DB_FILE}"
   ]
  },
  {
   "cell_type": "code",
   "execution_count": null,
   "id": "defe24bb",
   "metadata": {},
   "outputs": [],
   "source": [
    "!duckdb -c \".databases\" {DB_FILE}\n",
    "#!duckdb -c \".open hello.db\""
   ]
  },
  {
   "cell_type": "code",
   "execution_count": null,
   "id": "24929561",
   "metadata": {},
   "outputs": [],
   "source": [
    "!duckdb -c \" \\\n",
    "create table metastats as select trim(status) as tstatus, count(trim(status)) as cstatus, round(count(*) * 100.0/sum(count(*)) over(), 2) as pct from meta group by tstatus order by cstatus desc; \\\n",
    "select * from metastats; \\\n",
    "\" {DB_FILE}"
   ]
  },
  {
   "cell_type": "code",
   "execution_count": null,
   "id": "34d83e1b",
   "metadata": {},
   "outputs": [],
   "source": [
    "!duckdb -c \" \\\n",
    "create table metastats_norobotstxt as select trim(status) as tstatus, count(trim(status)) as cstatus, round(count(*) * 100.0/sum(count(*)) over(), 2) as pct from meta where url not like '%robots.txt' group by tstatus order by cstatus desc; \\\n",
    "select * from metastats_norobotstxt; \\\n",
    "\" {DB_FILE}"
   ]
  },
  {
   "cell_type": "code",
   "execution_count": null,
   "id": "e70c6ed4",
   "metadata": {},
   "outputs": [],
   "source": [
    "#!duckdb -c \"drop table metastats\" {DB_FILE}"
   ]
  },
  {
   "cell_type": "code",
   "execution_count": null,
   "id": "bddf59c9",
   "metadata": {},
   "outputs": [],
   "source": [
    "first_line = \"\"\n",
    "with open(\"../cc/cdx-00000\", \"r\") as file:\n",
    "    first_line = file.readline()\n",
    "\n",
    "print(first_line)"
   ]
  },
  {
   "cell_type": "code",
   "execution_count": null,
   "id": "960647b1",
   "metadata": {},
   "outputs": [],
   "source": [
    "!echo \"{first_line}\" | cut -d' ' -f3- "
   ]
  },
  {
   "cell_type": "code",
   "execution_count": null,
   "id": "26a1482f",
   "metadata": {},
   "outputs": [],
   "source": [
    "import json\n",
    "s = '{\"url\": \"http://1.0.0.0/robots.txt\", \"mime\": \"text/html\", \"mime-detected\": \"text/html\", \"status\": \"403\", \"digest\": \"UNFBLUUDKY6EPX25BG4X7TI6J3IS2BBZ\", \"length\": \"2706\", \"offset\": \"890\", \"filename\": \"crawl-data/CC-MAIN-2024-42/segments/1727944253858.36/robotstxt/CC-MAIN-20241011230131-20241012020131-00456.warc.gz\"}'\n",
    "json.loads(s)"
   ]
  }
 ],
 "metadata": {
  "kernelspec": {
   "display_name": "Python 3 (ipykernel)",
   "language": "python",
   "name": "python3"
  },
  "language_info": {
   "codemirror_mode": {
    "name": "ipython",
    "version": 3
   },
   "file_extension": ".py",
   "mimetype": "text/x-python",
   "name": "python",
   "nbconvert_exporter": "python",
   "pygments_lexer": "ipython3",
   "version": "3.9.16"
  }
 },
 "nbformat": 4,
 "nbformat_minor": 5
}
